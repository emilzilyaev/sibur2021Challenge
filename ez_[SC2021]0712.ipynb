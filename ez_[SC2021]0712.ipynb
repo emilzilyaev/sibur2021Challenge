{
  "nbformat": 4,
  "nbformat_minor": 0,
  "metadata": {
    "kernelspec": {
      "display_name": "Python 3",
      "language": "python",
      "name": "python3"
    },
    "language_info": {
      "codemirror_mode": {
        "name": "ipython",
        "version": 3
      },
      "file_extension": ".py",
      "mimetype": "text/x-python",
      "name": "python",
      "nbconvert_exporter": "python",
      "pygments_lexer": "ipython3",
      "version": "3.8.12"
    },
    "colab": {
      "name": "ez-[SC2021]0712.ipynb",
      "provenance": [],
      "collapsed_sections": [
        "ih_ZcOz_ZLI9",
        "LRVKrUZtZLI-",
        "1tb6v0DAZLI_",
        "00akzBFsZLJB",
        "Ft0U2plKZLJC"
      ],
      "include_colab_link": true
    }
  },
  "cells": [
    {
      "cell_type": "markdown",
      "metadata": {
        "id": "view-in-github",
        "colab_type": "text"
      },
      "source": [
        "<a href=\"https://colab.research.google.com/github/emilziyaev/sibur2021Challenge/blob/main/ez_%5BSC2021%5D0712.ipynb\" target=\"_parent\"><img src=\"https://colab.research.google.com/assets/colab-badge.svg\" alt=\"Open In Colab\"/></a>"
      ]
    },
    {
      "cell_type": "code",
      "metadata": {
        "id": "LPmWpCAwZUJm"
      },
      "source": [
        "pip install CatBoost"
      ],
      "execution_count": null,
      "outputs": []
    },
    {
      "cell_type": "code",
      "metadata": {
        "id": "wz7z3A_11OIQ"
      },
      "source": [
        "! pip install --upgrade Cython\n",
        "! pip install --upgrade git+https://github.com/statsmodels/statsmodels\n",
        "import statsmodels.api as sm"
      ],
      "execution_count": null,
      "outputs": []
    },
    {
      "cell_type": "code",
      "metadata": {
        "id": "sVTmxki3Ox4d"
      },
      "source": [
        "from google.colab import drive\n",
        "drive.mount('/content/drive')"
      ],
      "execution_count": null,
      "outputs": []
    },
    {
      "cell_type": "code",
      "metadata": {
        "colab": {
          "base_uri": "https://localhost:8080/"
        },
        "id": "_8eQAncAZLIv",
        "outputId": "84d7579a-b8e4-4e4a-c5bd-071314670c2b"
      },
      "source": [
        "%pylab inline\n",
        "plt.style.use(\"bmh\")"
      ],
      "execution_count": null,
      "outputs": [
        {
          "output_type": "stream",
          "name": "stdout",
          "text": [
            "Populating the interactive namespace from numpy and matplotlib\n"
          ]
        }
      ]
    },
    {
      "cell_type": "code",
      "metadata": {
        "id": "L2N0cQVXZLIz"
      },
      "source": [
        "import pathlib\n",
        "import pandas as pd\n",
        "from catboost import CatBoostRegressor\n",
        "from sklearn.metrics import mean_squared_log_error\n",
        "import numpy as np\n"
      ],
      "execution_count": null,
      "outputs": []
    },
    {
      "cell_type": "code",
      "metadata": {
        "id": "Q3E8e9lOwO0u"
      },
      "source": [
        "#import statistics.api as sm\n",
        "from statsmodels.iolib.table import SimpleTable\n",
        "from sklearn.metrics import r2_score\n",
        "# import ml_metrics as metrics"
      ],
      "execution_count": null,
      "outputs": []
    },
    {
      "cell_type": "code",
      "metadata": {
        "id": "OVYrh3odZLI0"
      },
      "source": [
        "DATA_DIR = pathlib.Path(\".\")\n",
        "DATA_FILE = \"/content/drive/MyDrive/Sibur challange 2021/sc2021_train_deals.csv\"\n",
        "AGG_COLS = [\"material_code\", \"company_code\", \"country\", \"region\", \"manager_code\", \"complexId\"]\n",
        "RS = 82736"
      ],
      "execution_count": null,
      "outputs": []
    },
    {
      "cell_type": "markdown",
      "metadata": {
        "id": "d5_Z8WAZZLI0"
      },
      "source": [
        "# Загрузка данных"
      ]
    },
    {
      "cell_type": "code",
      "metadata": {
        "id": "k3iILla3ZLI2"
      },
      "source": [
        "# data = pd.read_csv(DATA_DIR.joinpath(DATA_FILE), parse_dates=[\"month\", \"date\"])\n",
        "data = pd.read_csv(DATA_FILE, parse_dates=[\"month\", \"date\"])"
      ],
      "execution_count": null,
      "outputs": []
    },
    {
      "cell_type": "code",
      "metadata": {
        "colab": {
          "base_uri": "https://localhost:8080/",
          "height": 215
        },
        "id": "kvGAhCS3ZLI2",
        "outputId": "a3535bf4-cfe1-438d-992a-f2e4a328a5ed"
      },
      "source": [
        "data.head(3)"
      ],
      "execution_count": null,
      "outputs": [
        {
          "output_type": "execute_result",
          "data": {
            "text/html": [
              "<div>\n",
              "<style scoped>\n",
              "    .dataframe tbody tr th:only-of-type {\n",
              "        vertical-align: middle;\n",
              "    }\n",
              "\n",
              "    .dataframe tbody tr th {\n",
              "        vertical-align: top;\n",
              "    }\n",
              "\n",
              "    .dataframe thead th {\n",
              "        text-align: right;\n",
              "    }\n",
              "</style>\n",
              "<table border=\"1\" class=\"dataframe\">\n",
              "  <thead>\n",
              "    <tr style=\"text-align: right;\">\n",
              "      <th></th>\n",
              "      <th>material_code</th>\n",
              "      <th>company_code</th>\n",
              "      <th>country</th>\n",
              "      <th>region</th>\n",
              "      <th>manager_code</th>\n",
              "      <th>month</th>\n",
              "      <th>material_lvl1_name</th>\n",
              "      <th>material_lvl2_name</th>\n",
              "      <th>material_lvl3_name</th>\n",
              "      <th>contract_type</th>\n",
              "      <th>date</th>\n",
              "      <th>volume</th>\n",
              "      <th>complexId</th>\n",
              "    </tr>\n",
              "  </thead>\n",
              "  <tbody>\n",
              "    <tr>\n",
              "      <th>0</th>\n",
              "      <td>134</td>\n",
              "      <td>0</td>\n",
              "      <td>Литва</td>\n",
              "      <td>Литва</td>\n",
              "      <td>12261</td>\n",
              "      <td>2018-01-01</td>\n",
              "      <td>Базовые полимеры</td>\n",
              "      <td>ПЭ</td>\n",
              "      <td>ПЭНП</td>\n",
              "      <td>Спот</td>\n",
              "      <td>2018-01-01</td>\n",
              "      <td>43.0</td>\n",
              "      <td>134012261</td>\n",
              "    </tr>\n",
              "    <tr>\n",
              "      <th>1</th>\n",
              "      <td>197</td>\n",
              "      <td>0</td>\n",
              "      <td>Китай</td>\n",
              "      <td>Китай</td>\n",
              "      <td>16350</td>\n",
              "      <td>2018-01-01</td>\n",
              "      <td>Базовые полимеры</td>\n",
              "      <td>ПЭ</td>\n",
              "      <td>ПЭНП</td>\n",
              "      <td>Спот</td>\n",
              "      <td>2018-01-02</td>\n",
              "      <td>95.0</td>\n",
              "      <td>197016350</td>\n",
              "    </tr>\n",
              "    <tr>\n",
              "      <th>2</th>\n",
              "      <td>794</td>\n",
              "      <td>2162</td>\n",
              "      <td>Казахстан</td>\n",
              "      <td>Атырауская обл.</td>\n",
              "      <td>10942</td>\n",
              "      <td>2018-01-01</td>\n",
              "      <td>Базовые полимеры</td>\n",
              "      <td>ПП</td>\n",
              "      <td>ПП</td>\n",
              "      <td>Контракт</td>\n",
              "      <td>2018-01-02</td>\n",
              "      <td>57.0</td>\n",
              "      <td>794216210942</td>\n",
              "    </tr>\n",
              "  </tbody>\n",
              "</table>\n",
              "</div>"
            ],
            "text/plain": [
              "   material_code  company_code    country  ...       date  volume     complexId\n",
              "0            134             0      Литва  ... 2018-01-01    43.0     134012261\n",
              "1            197             0      Китай  ... 2018-01-02    95.0     197016350\n",
              "2            794          2162  Казахстан  ... 2018-01-02    57.0  794216210942\n",
              "\n",
              "[3 rows x 13 columns]"
            ]
          },
          "metadata": {},
          "execution_count": 185
        }
      ]
    },
    {
      "cell_type": "code",
      "metadata": {
        "id": "PPbIrfnt1nti"
      },
      "source": [
        "countriesToNumeric = {'Австрия': 16,\n",
        " 'Белоруссия': 1,\n",
        " 'Бельгия': 12,\n",
        " 'Венгрия': 22,\n",
        " 'Германия': 7,\n",
        " 'Дания': 24,\n",
        " 'Индия': 28,\n",
        " 'Испания': 29,\n",
        " 'Италия': 23,\n",
        " 'Казахстан': 2,\n",
        " 'Киргизия': 3,\n",
        " 'Китай': 4,\n",
        " 'Литва': 8,\n",
        " 'Молдавия': 14,\n",
        " 'Нидерланды': 17,\n",
        " 'Польша': 9,\n",
        " 'Россия': 0,\n",
        " 'Сербия': 13,\n",
        " 'Словакия': 15,\n",
        " 'Соед. Королев.': 10,\n",
        " 'Таджикистан': 26,\n",
        " 'Турция': 27,\n",
        " 'Узбекистан': 5,\n",
        " 'Украина': 6,\n",
        " 'Финляндия': 18,\n",
        " 'Франция': 19,\n",
        " 'Чехия': 11,\n",
        " 'Швейцария': 20,\n",
        " 'Швеция': 25,\n",
        " 'Эстония': 21}\n",
        " \n",
        "RegionsToNumeric = {'Австрия': 72,\n",
        " 'Алтайский край': 7,\n",
        " 'Астраханская обл.': 92,\n",
        " 'Атырауская обл.': 101,\n",
        " 'Белгородская обл.': 34,\n",
        " 'Бельгия': 41,\n",
        " 'Брестская обл.': 53,\n",
        " 'Брянская обл.': 61,\n",
        " 'Венгрия': 80,\n",
        " 'Витебская обл.': 54,\n",
        " 'Владимирская обл.': 43,\n",
        " 'Волгоградская обл.': 52,\n",
        " 'Вологодская обл.': 62,\n",
        " 'Воронежская обл.': 35,\n",
        " 'Восточно-Казахстанская обл.': 45,\n",
        " 'Германия': 36,\n",
        " 'Гомельская обл.': 93,\n",
        " 'Гродненская обл.': 55,\n",
        " 'Дания': 84,\n",
        " 'Еврейская АО': 87,\n",
        " 'Западно-Казахстанская обл.': 56,\n",
        " 'Ивановская обл.': 100,\n",
        " 'Индия': 94,\n",
        " 'Иркутская обл.': 8,\n",
        " 'Испания': 96,\n",
        " 'Италия': 81,\n",
        " 'Казахстан': 77,\n",
        " 'Калининградская обл.': 63,\n",
        " 'Калужская обл.': 9,\n",
        " 'Карагандинская обл.': 57,\n",
        " 'Кемеровская обл.': 10,\n",
        " 'Киргизия': 5,\n",
        " 'Кировская обл.': 82,\n",
        " 'Китай': 6,\n",
        " 'Краснодарский край': 29,\n",
        " 'Красноярский край': 64,\n",
        " 'Курская обл.': 25,\n",
        " 'Ленинградская обл.': 26,\n",
        " 'Липецкая обл.': 44,\n",
        " 'Литва': 37,\n",
        " 'Мангистауская обл.': 58,\n",
        " 'Минская обл.': 1,\n",
        " 'Могилевская обл.': 2,\n",
        " 'Молдавия': 60,\n",
        " 'Московская обл.': 11,\n",
        " 'Нидерланды': 73,\n",
        " 'Нижегородская обл.': 33,\n",
        " 'Новосибирская обл.': 12,\n",
        " 'Омская обл.': 27,\n",
        " 'Оренбургская обл.': 65,\n",
        " 'Орловская обл.': 66,\n",
        " 'Павлодарская обл.': 59,\n",
        " 'Пензенская обл.': 48,\n",
        " 'Пермский край': 30,\n",
        " 'Польша': 38,\n",
        " 'Приморский край': 13,\n",
        " 'Псковская обл.': 67,\n",
        " 'Респ. Башкортостан': 50,\n",
        " 'Респ. Дагестан': 88,\n",
        " 'Респ. Коми': 97,\n",
        " 'Респ. Марий Эл': 79,\n",
        " 'Респ. Мордовия': 71,\n",
        " 'Респ. Саха (Якутия)': 68,\n",
        " 'Респ. Татарстан': 0,\n",
        " 'Респ. Удмуртия': 86,\n",
        " 'Респ. Хакасия': 95,\n",
        " 'Россия': 91,\n",
        " 'Ростовская обл.': 14,\n",
        " 'Рязанская обл.': 32,\n",
        " 'Самарская обл.': 46,\n",
        " 'Саратовская обл.': 49,\n",
        " 'Свердловская обл.': 15,\n",
        " 'Сербия': 51,\n",
        " 'Словакия': 70,\n",
        " 'Смоленская обл.': 22,\n",
        " 'Соед. Королев.': 39,\n",
        " 'Ставропольский край': 23,\n",
        " 'Таджикистан': 89,\n",
        " 'Тверская обл.': 99,\n",
        " 'Томская обл.': 16,\n",
        " 'Тульская обл.': 31,\n",
        " 'Турция': 90,\n",
        " 'Тюменская обл.': 17,\n",
        " 'Узбекистан': 20,\n",
        " 'Украина': 21,\n",
        " 'Ульяновская обл.': 83,\n",
        " 'Финляндия': 74,\n",
        " 'Франция': 75,\n",
        " 'Хабаровский край': 18,\n",
        " 'Ханты-Мансийский а. о.': 98,\n",
        " 'Челябинская обл.': 24,\n",
        " 'Чехия': 40,\n",
        " 'Чувашская респ.': 69,\n",
        " 'Швейцария': 76,\n",
        " 'Швеция': 85,\n",
        " 'Эстония': 78,\n",
        " 'Ярославская обл.': 47,\n",
        " 'г. Алма-Ата': 42,\n",
        " 'г. Минск': 3,\n",
        " 'г. Москва': 19,\n",
        " 'г. Нур-Султан': 4,\n",
        " 'г. Санкт-Петербург': 28}"
      ],
      "execution_count": null,
      "outputs": []
    },
    {
      "cell_type": "code",
      "source": [
        "data['complexId'] = str(data['material_code']) + str(data['company_code']) + str(data['manager_code'])"
      ],
      "metadata": {
        "id": "HZYNy9vVMK5H"
      },
      "execution_count": null,
      "outputs": []
    },
    {
      "cell_type": "code",
      "source": [
        "data.iloc[0][0] = 135"
      ],
      "metadata": {
        "colab": {
          "base_uri": "https://localhost:8080/"
        },
        "id": "Xs0khGP5Rbn7",
        "outputId": "42e8f9fa-aee3-4eb7-8938-2bed4ae788d7"
      },
      "execution_count": null,
      "outputs": [
        {
          "output_type": "stream",
          "name": "stderr",
          "text": [
            "/usr/local/lib/python3.7/dist-packages/ipykernel_launcher.py:1: SettingWithCopyWarning: \n",
            "A value is trying to be set on a copy of a slice from a DataFrame\n",
            "\n",
            "See the caveats in the documentation: https://pandas.pydata.org/pandas-docs/stable/user_guide/indexing.html#returning-a-view-versus-a-copy\n",
            "  \"\"\"Entry point for launching an IPython kernel.\n"
          ]
        }
      ]
    },
    {
      "cell_type": "code",
      "source": [
        "data['complexId'] = data['complexId'].astype(str)"
      ],
      "metadata": {
        "id": "4s1xH32vaEj0"
      },
      "execution_count": null,
      "outputs": []
    },
    {
      "cell_type": "code",
      "source": [
        "for i in range(92306):\n",
        "  data.at[i, 'complexId'] = str(data.loc[i]['material_code']) + str(data.loc[i]['company_code']) + str(data.loc[i]['manager_code']) + str(RegionsToNumeric[data.loc[i]['region']])"
      ],
      "metadata": {
        "id": "65D99zR3Lv94"
      },
      "execution_count": null,
      "outputs": []
    },
    {
      "cell_type": "code",
      "source": [
        "len(data['complexId'].unique())"
      ],
      "metadata": {
        "colab": {
          "base_uri": "https://localhost:8080/"
        },
        "id": "1tCDIG-nNR3i",
        "outputId": "6f9a5003-8766-4d04-8b0e-32fe79e93282"
      },
      "execution_count": null,
      "outputs": [
        {
          "output_type": "execute_result",
          "data": {
            "text/plain": [
              "941"
            ]
          },
          "metadata": {},
          "execution_count": 212
        }
      ]
    },
    {
      "cell_type": "markdown",
      "metadata": {
        "id": "os7U1JpHZLI4"
      },
      "source": [
        "Временной диапазон тренировочного множества:"
      ]
    },
    {
      "cell_type": "code",
      "metadata": {
        "colab": {
          "base_uri": "https://localhost:8080/"
        },
        "id": "gPlKOgRdZLI4",
        "outputId": "d5c743e8-2a39-4076-9e11-88a42726ce19"
      },
      "source": [
        "data.month.min(), data.month.max()"
      ],
      "execution_count": null,
      "outputs": [
        {
          "output_type": "execute_result",
          "data": {
            "text/plain": [
              "(Timestamp('2018-01-01 00:00:00'), Timestamp('2020-07-01 00:00:00'))"
            ]
          },
          "metadata": {},
          "execution_count": 214
        }
      ]
    },
    {
      "cell_type": "markdown",
      "metadata": {
        "id": "M-ERkr0IZLI6"
      },
      "source": [
        "# Временные ряды"
      ]
    },
    {
      "cell_type": "code",
      "metadata": {
        "id": "XT74GuOlZLI6",
        "colab": {
          "base_uri": "https://localhost:8080/",
          "height": 264
        },
        "outputId": "e0c39fff-c2ab-4462-ab9f-d3fa1f1daec5"
      },
      "source": [
        "# исходная группировка (базовая)\n",
        "group_ts = data.groupby(AGG_COLS + [\"month\"])[\"volume\"].sum().unstack(fill_value=0)\n",
        "group_ts=group_ts.loc[:,:'2020-06-01']\n",
        "group_ts.head(3)"
      ],
      "execution_count": null,
      "outputs": [
        {
          "output_type": "execute_result",
          "data": {
            "text/html": [
              "<div>\n",
              "<style scoped>\n",
              "    .dataframe tbody tr th:only-of-type {\n",
              "        vertical-align: middle;\n",
              "    }\n",
              "\n",
              "    .dataframe tbody tr th {\n",
              "        vertical-align: top;\n",
              "    }\n",
              "\n",
              "    .dataframe thead th {\n",
              "        text-align: right;\n",
              "    }\n",
              "</style>\n",
              "<table border=\"1\" class=\"dataframe\">\n",
              "  <thead>\n",
              "    <tr style=\"text-align: right;\">\n",
              "      <th></th>\n",
              "      <th></th>\n",
              "      <th></th>\n",
              "      <th></th>\n",
              "      <th></th>\n",
              "      <th>month</th>\n",
              "      <th>2018-01-01</th>\n",
              "      <th>2018-02-01</th>\n",
              "      <th>2018-03-01</th>\n",
              "      <th>2018-04-01</th>\n",
              "      <th>2018-05-01</th>\n",
              "      <th>2018-06-01</th>\n",
              "      <th>2018-07-01</th>\n",
              "      <th>2018-08-01</th>\n",
              "      <th>2018-09-01</th>\n",
              "      <th>2018-10-01</th>\n",
              "      <th>2018-11-01</th>\n",
              "      <th>2018-12-01</th>\n",
              "      <th>2019-01-01</th>\n",
              "      <th>2019-02-01</th>\n",
              "      <th>2019-03-01</th>\n",
              "      <th>2019-04-01</th>\n",
              "      <th>2019-05-01</th>\n",
              "      <th>2019-06-01</th>\n",
              "      <th>2019-07-01</th>\n",
              "      <th>2019-08-01</th>\n",
              "      <th>2019-09-01</th>\n",
              "      <th>2019-10-01</th>\n",
              "      <th>2019-11-01</th>\n",
              "      <th>2019-12-01</th>\n",
              "      <th>2020-01-01</th>\n",
              "      <th>2020-02-01</th>\n",
              "      <th>2020-03-01</th>\n",
              "      <th>2020-04-01</th>\n",
              "      <th>2020-05-01</th>\n",
              "      <th>2020-06-01</th>\n",
              "    </tr>\n",
              "    <tr>\n",
              "      <th>material_code</th>\n",
              "      <th>company_code</th>\n",
              "      <th>country</th>\n",
              "      <th>region</th>\n",
              "      <th>manager_code</th>\n",
              "      <th>complexId</th>\n",
              "      <th></th>\n",
              "      <th></th>\n",
              "      <th></th>\n",
              "      <th></th>\n",
              "      <th></th>\n",
              "      <th></th>\n",
              "      <th></th>\n",
              "      <th></th>\n",
              "      <th></th>\n",
              "      <th></th>\n",
              "      <th></th>\n",
              "      <th></th>\n",
              "      <th></th>\n",
              "      <th></th>\n",
              "      <th></th>\n",
              "      <th></th>\n",
              "      <th></th>\n",
              "      <th></th>\n",
              "      <th></th>\n",
              "      <th></th>\n",
              "      <th></th>\n",
              "      <th></th>\n",
              "      <th></th>\n",
              "      <th></th>\n",
              "      <th></th>\n",
              "      <th></th>\n",
              "      <th></th>\n",
              "      <th></th>\n",
              "      <th></th>\n",
              "      <th></th>\n",
              "    </tr>\n",
              "  </thead>\n",
              "  <tbody>\n",
              "    <tr>\n",
              "      <th>124</th>\n",
              "      <th>7278</th>\n",
              "      <th>Россия</th>\n",
              "      <th>Респ. Татарстан</th>\n",
              "      <th>17460</th>\n",
              "      <th>1247278174600</th>\n",
              "      <td>340.0</td>\n",
              "      <td>340.0</td>\n",
              "      <td>260.0</td>\n",
              "      <td>240.0</td>\n",
              "      <td>220.0</td>\n",
              "      <td>220.0</td>\n",
              "      <td>220.0</td>\n",
              "      <td>220.0</td>\n",
              "      <td>220.0</td>\n",
              "      <td>280.0</td>\n",
              "      <td>280.0</td>\n",
              "      <td>280.0</td>\n",
              "      <td>200.0</td>\n",
              "      <td>200.0</td>\n",
              "      <td>200.0</td>\n",
              "      <td>185.0</td>\n",
              "      <td>103.0</td>\n",
              "      <td>62.0</td>\n",
              "      <td>0.0</td>\n",
              "      <td>0.0</td>\n",
              "      <td>0.0</td>\n",
              "      <td>0.0</td>\n",
              "      <td>0.0</td>\n",
              "      <td>0.0</td>\n",
              "      <td>0.0</td>\n",
              "      <td>0.0</td>\n",
              "      <td>0.0</td>\n",
              "      <td>0.0</td>\n",
              "      <td>0.0</td>\n",
              "      <td>0.0</td>\n",
              "    </tr>\n",
              "    <tr>\n",
              "      <th rowspan=\"2\" valign=\"top\">133</th>\n",
              "      <th rowspan=\"2\" valign=\"top\">0</th>\n",
              "      <th rowspan=\"2\" valign=\"top\">Белоруссия</th>\n",
              "      <th>Минская обл.</th>\n",
              "      <th>10942</th>\n",
              "      <th>1330109421</th>\n",
              "      <td>0.0</td>\n",
              "      <td>0.0</td>\n",
              "      <td>0.0</td>\n",
              "      <td>200.0</td>\n",
              "      <td>60.0</td>\n",
              "      <td>0.0</td>\n",
              "      <td>0.0</td>\n",
              "      <td>0.0</td>\n",
              "      <td>0.0</td>\n",
              "      <td>0.0</td>\n",
              "      <td>0.0</td>\n",
              "      <td>0.0</td>\n",
              "      <td>0.0</td>\n",
              "      <td>0.0</td>\n",
              "      <td>0.0</td>\n",
              "      <td>36.0</td>\n",
              "      <td>98.0</td>\n",
              "      <td>82.0</td>\n",
              "      <td>62.0</td>\n",
              "      <td>145.0</td>\n",
              "      <td>124.0</td>\n",
              "      <td>181.0</td>\n",
              "      <td>208.0</td>\n",
              "      <td>207.0</td>\n",
              "      <td>17.0</td>\n",
              "      <td>72.0</td>\n",
              "      <td>250.0</td>\n",
              "      <td>394.0</td>\n",
              "      <td>288.0</td>\n",
              "      <td>210.0</td>\n",
              "    </tr>\n",
              "    <tr>\n",
              "      <th>Могилевская обл.</th>\n",
              "      <th>10942</th>\n",
              "      <th>1330109422</th>\n",
              "      <td>0.0</td>\n",
              "      <td>0.0</td>\n",
              "      <td>0.0</td>\n",
              "      <td>0.0</td>\n",
              "      <td>140.0</td>\n",
              "      <td>0.0</td>\n",
              "      <td>0.0</td>\n",
              "      <td>0.0</td>\n",
              "      <td>100.0</td>\n",
              "      <td>220.0</td>\n",
              "      <td>20.0</td>\n",
              "      <td>0.0</td>\n",
              "      <td>0.0</td>\n",
              "      <td>80.0</td>\n",
              "      <td>142.0</td>\n",
              "      <td>103.0</td>\n",
              "      <td>145.0</td>\n",
              "      <td>0.0</td>\n",
              "      <td>0.0</td>\n",
              "      <td>0.0</td>\n",
              "      <td>0.0</td>\n",
              "      <td>0.0</td>\n",
              "      <td>0.0</td>\n",
              "      <td>0.0</td>\n",
              "      <td>0.0</td>\n",
              "      <td>0.0</td>\n",
              "      <td>0.0</td>\n",
              "      <td>166.0</td>\n",
              "      <td>62.0</td>\n",
              "      <td>0.0</td>\n",
              "    </tr>\n",
              "  </tbody>\n",
              "</table>\n",
              "</div>"
            ],
            "text/plain": [
              "month                                                                              2018-01-01  ...  2020-06-01\n",
              "material_code company_code country    region           manager_code complexId                  ...            \n",
              "124           7278         Россия     Респ. Татарстан  17460        1247278174600       340.0  ...         0.0\n",
              "133           0            Белоруссия Минская обл.     10942        1330109421            0.0  ...       210.0\n",
              "                                      Могилевская обл. 10942        1330109422            0.0  ...         0.0\n",
              "\n",
              "[3 rows x 30 columns]"
            ]
          },
          "metadata": {},
          "execution_count": 215
        }
      ]
    },
    {
      "cell_type": "code",
      "source": [
        "group_ts.index[0][5]"
      ],
      "metadata": {
        "colab": {
          "base_uri": "https://localhost:8080/",
          "height": 35
        },
        "id": "FvgvNEcIg3KE",
        "outputId": "d9c0d0d6-57a3-4c9e-f12e-ca889b1b0a13"
      },
      "execution_count": null,
      "outputs": [
        {
          "output_type": "execute_result",
          "data": {
            "application/vnd.google.colaboratory.intrinsic+json": {
              "type": "string"
            },
            "text/plain": [
              "'1247278174600'"
            ]
          },
          "metadata": {},
          "execution_count": 224
        }
      ]
    },
    {
      "cell_type": "code",
      "metadata": {
        "id": "T4bZQczEGSkZ"
      },
      "source": [
        "for i in range (941):\n",
        "  otg=group_ts.iloc[i]\n",
        "  group_ts.iloc[i]."
      ],
      "execution_count": null,
      "outputs": []
    },
    {
      "cell_type": "code",
      "source": [
        "group_ts.reset_index['material_code']"
      ],
      "metadata": {
        "colab": {
          "base_uri": "https://localhost:8080/",
          "height": 165
        },
        "id": "ZksGxij9hmBn",
        "outputId": "a9987e73-cc1e-4c75-f453-cc31734aeb4a"
      },
      "execution_count": null,
      "outputs": [
        {
          "output_type": "error",
          "ename": "TypeError",
          "evalue": "ignored",
          "traceback": [
            "\u001b[0;31m---------------------------------------------------------------------------\u001b[0m",
            "\u001b[0;31mTypeError\u001b[0m                                 Traceback (most recent call last)",
            "\u001b[0;32m<ipython-input-221-fa189998d7cc>\u001b[0m in \u001b[0;36m<module>\u001b[0;34m()\u001b[0m\n\u001b[0;32m----> 1\u001b[0;31m \u001b[0mgroup_ts\u001b[0m\u001b[0;34m.\u001b[0m\u001b[0mreset_index\u001b[0m\u001b[0;34m[\u001b[0m\u001b[0;34m'material_code'\u001b[0m\u001b[0;34m]\u001b[0m\u001b[0;34m\u001b[0m\u001b[0;34m\u001b[0m\u001b[0m\n\u001b[0m",
            "\u001b[0;31mTypeError\u001b[0m: 'method' object is not subscriptable"
          ]
        }
      ]
    },
    {
      "cell_type": "code",
      "source": [
        "#complexId для данных с нулями и без \n",
        "noNulls=[]\n",
        "nullsInit=[]\n",
        "\n",
        "\n",
        "top_not_zero=[]\n",
        "other=[]\n",
        "\n",
        "for i in range (941):\n",
        "  otg=group_ts.iloc[i]\n",
        "  if (otg==0).sum()==0:\n",
        "    top_not_zero.append(i)\n",
        "    noNulls.append(group_ts.index[i][5])\n",
        "  else:\n",
        "    other.append(i)\n",
        "    nullsInit.append(group_ts.index[i][5])"
      ],
      "metadata": {
        "id": "Qa8HAtL-hFn7"
      },
      "execution_count": null,
      "outputs": []
    },
    {
      "cell_type": "code",
      "source": [
        "len(noNulls), len(nullsInit)"
      ],
      "metadata": {
        "colab": {
          "base_uri": "https://localhost:8080/"
        },
        "id": "IV5FrJZ_igBM",
        "outputId": "a527e1e0-460a-4edd-b5a9-2e57ec6a76df"
      },
      "execution_count": null,
      "outputs": [
        {
          "output_type": "execute_result",
          "data": {
            "text/plain": [
              "(94, 847)"
            ]
          },
          "metadata": {},
          "execution_count": 227
        }
      ]
    },
    {
      "cell_type": "code",
      "metadata": {
        "id": "kaARAh4-X4aL"
      },
      "source": [
        "group_ts.iloc[936]"
      ],
      "execution_count": null,
      "outputs": []
    },
    {
      "cell_type": "code",
      "metadata": {
        "id": "fQrg_IcigPH5"
      },
      "source": [
        "# проверка данных на обучении\n",
        "group_ts=group_ts.iloc[top_not_zero]"
      ],
      "execution_count": null,
      "outputs": []
    },
    {
      "cell_type": "code",
      "metadata": {
        "id": "gnkiLEMEZLI8",
        "outputId": "2afe03e8-035a-460a-97e2-ce9380a9bdbb"
      },
      "source": [
        "ROW_ID = -7\n",
        "\n",
        "plt.figure(figsize=(12,4))\n",
        "group_ts.iloc[ROW_ID].plot(rot=45)\n",
        "\n",
        "title = ', '.join([f\"{k}: {v}\" for k, v in zip(AGG_COLS, group_ts.index[ROW_ID])])\n",
        "plt.title(title, fontsize=12)\n",
        "plt.ylabel(\"volume\")\n",
        "\n",
        "plt.tight_layout()"
      ],
      "execution_count": null,
      "outputs": [
        {
          "data": {
            "image/png": "[encoded data removed]",
            "text/plain": [
              "<Figure size 864x288 with 1 Axes>"
            ]
          },
          "metadata": {
            "needs_background": "light"
          },
          "output_type": "display_data"
        }
      ]
    },
    {
      "cell_type": "markdown",
      "metadata": {
        "id": "ih_ZcOz_ZLI9"
      },
      "source": [
        "# Baseline #1: последнее известное значение"
      ]
    },
    {
      "cell_type": "code",
      "metadata": {
        "id": "ip6c3l3uZLI9"
      },
      "source": [
        "tr_data = group_ts.iloc[:, :-6]\n",
        "val_data = group_ts.iloc[:, -6:]"
      ],
      "execution_count": null,
      "outputs": []
    },
    {
      "cell_type": "code",
      "metadata": {
        "colab": {
          "base_uri": "https://localhost:8080/",
          "height": 481
        },
        "id": "Juff0fUlZLI9",
        "outputId": "a143c747-6306-4bd6-9401-bca92b76c6e8"
      },
      "source": [
        "val_data"
      ],
      "execution_count": null,
      "outputs": [
        {
          "output_type": "execute_result",
          "data": {
            "text/html": [
              "<div>\n",
              "<style scoped>\n",
              "    .dataframe tbody tr th:only-of-type {\n",
              "        vertical-align: middle;\n",
              "    }\n",
              "\n",
              "    .dataframe tbody tr th {\n",
              "        vertical-align: top;\n",
              "    }\n",
              "\n",
              "    .dataframe thead th {\n",
              "        text-align: right;\n",
              "    }\n",
              "</style>\n",
              "<table border=\"1\" class=\"dataframe\">\n",
              "  <thead>\n",
              "    <tr style=\"text-align: right;\">\n",
              "      <th></th>\n",
              "      <th></th>\n",
              "      <th></th>\n",
              "      <th></th>\n",
              "      <th>month</th>\n",
              "      <th>2020-02-01</th>\n",
              "      <th>2020-03-01</th>\n",
              "      <th>2020-04-01</th>\n",
              "      <th>2020-05-01</th>\n",
              "      <th>2020-06-01</th>\n",
              "      <th>2020-07-01</th>\n",
              "    </tr>\n",
              "    <tr>\n",
              "      <th>material_code</th>\n",
              "      <th>company_code</th>\n",
              "      <th>country</th>\n",
              "      <th>region</th>\n",
              "      <th>manager_code</th>\n",
              "      <th></th>\n",
              "      <th></th>\n",
              "      <th></th>\n",
              "      <th></th>\n",
              "      <th></th>\n",
              "      <th></th>\n",
              "    </tr>\n",
              "  </thead>\n",
              "  <tbody>\n",
              "    <tr>\n",
              "      <th>124</th>\n",
              "      <th>7278</th>\n",
              "      <th>Россия</th>\n",
              "      <th>Респ. Татарстан</th>\n",
              "      <th>17460</th>\n",
              "      <td>0.0</td>\n",
              "      <td>0.0</td>\n",
              "      <td>0.0</td>\n",
              "      <td>0.0</td>\n",
              "      <td>0.0</td>\n",
              "      <td>0.0</td>\n",
              "    </tr>\n",
              "    <tr>\n",
              "      <th rowspan=\"4\" valign=\"top\">133</th>\n",
              "      <th rowspan=\"4\" valign=\"top\">0</th>\n",
              "      <th rowspan=\"3\" valign=\"top\">Белоруссия</th>\n",
              "      <th>Минская обл.</th>\n",
              "      <th>10942</th>\n",
              "      <td>72.0</td>\n",
              "      <td>250.0</td>\n",
              "      <td>394.0</td>\n",
              "      <td>288.0</td>\n",
              "      <td>210.0</td>\n",
              "      <td>249.0</td>\n",
              "    </tr>\n",
              "    <tr>\n",
              "      <th>Могилевская обл.</th>\n",
              "      <th>10942</th>\n",
              "      <td>0.0</td>\n",
              "      <td>0.0</td>\n",
              "      <td>166.0</td>\n",
              "      <td>62.0</td>\n",
              "      <td>0.0</td>\n",
              "      <td>0.0</td>\n",
              "    </tr>\n",
              "    <tr>\n",
              "      <th>г. Минск</th>\n",
              "      <th>10942</th>\n",
              "      <td>0.0</td>\n",
              "      <td>0.0</td>\n",
              "      <td>21.0</td>\n",
              "      <td>0.0</td>\n",
              "      <td>0.0</td>\n",
              "      <td>6.0</td>\n",
              "    </tr>\n",
              "    <tr>\n",
              "      <th>Казахстан</th>\n",
              "      <th>г. Нур-Султан</th>\n",
              "      <th>13301</th>\n",
              "      <td>50.0</td>\n",
              "      <td>40.0</td>\n",
              "      <td>0.0</td>\n",
              "      <td>0.0</td>\n",
              "      <td>50.0</td>\n",
              "      <td>0.0</td>\n",
              "    </tr>\n",
              "    <tr>\n",
              "      <th>...</th>\n",
              "      <th>...</th>\n",
              "      <th>...</th>\n",
              "      <th>...</th>\n",
              "      <th>...</th>\n",
              "      <td>...</td>\n",
              "      <td>...</td>\n",
              "      <td>...</td>\n",
              "      <td>...</td>\n",
              "      <td>...</td>\n",
              "      <td>...</td>\n",
              "    </tr>\n",
              "    <tr>\n",
              "      <th>986</th>\n",
              "      <th>9943</th>\n",
              "      <th>Россия</th>\n",
              "      <th>Смоленская обл.</th>\n",
              "      <th>17460</th>\n",
              "      <td>21.0</td>\n",
              "      <td>63.0</td>\n",
              "      <td>125.0</td>\n",
              "      <td>84.0</td>\n",
              "      <td>84.0</td>\n",
              "      <td>83.0</td>\n",
              "    </tr>\n",
              "    <tr>\n",
              "      <th rowspan=\"4\" valign=\"top\">998</th>\n",
              "      <th>0</th>\n",
              "      <th>Россия</th>\n",
              "      <th>Ленинградская обл.</th>\n",
              "      <th>18079</th>\n",
              "      <td>5.0</td>\n",
              "      <td>5.0</td>\n",
              "      <td>0.0</td>\n",
              "      <td>3.0</td>\n",
              "      <td>3.0</td>\n",
              "      <td>9.0</td>\n",
              "    </tr>\n",
              "    <tr>\n",
              "      <th>3380</th>\n",
              "      <th>Россия</th>\n",
              "      <th>Ленинградская обл.</th>\n",
              "      <th>14956</th>\n",
              "      <td>74.0</td>\n",
              "      <td>122.0</td>\n",
              "      <td>100.0</td>\n",
              "      <td>15.0</td>\n",
              "      <td>30.0</td>\n",
              "      <td>50.0</td>\n",
              "    </tr>\n",
              "    <tr>\n",
              "      <th>5410</th>\n",
              "      <th>Россия</th>\n",
              "      <th>г. Санкт-Петербург</th>\n",
              "      <th>14956</th>\n",
              "      <td>180.0</td>\n",
              "      <td>180.0</td>\n",
              "      <td>100.0</td>\n",
              "      <td>140.0</td>\n",
              "      <td>40.0</td>\n",
              "      <td>0.0</td>\n",
              "    </tr>\n",
              "    <tr>\n",
              "      <th>6346</th>\n",
              "      <th>Россия</th>\n",
              "      <th>Респ. Башкортостан</th>\n",
              "      <th>10737</th>\n",
              "      <td>0.0</td>\n",
              "      <td>20.0</td>\n",
              "      <td>40.0</td>\n",
              "      <td>20.0</td>\n",
              "      <td>21.0</td>\n",
              "      <td>21.0</td>\n",
              "    </tr>\n",
              "  </tbody>\n",
              "</table>\n",
              "<p>941 rows × 6 columns</p>\n",
              "</div>"
            ],
            "text/plain": [
              "month                                                                  2020-02-01  ...  2020-07-01\n",
              "material_code company_code country    region             manager_code              ...            \n",
              "124           7278         Россия     Респ. Татарстан    17460                0.0  ...         0.0\n",
              "133           0            Белоруссия Минская обл.       10942               72.0  ...       249.0\n",
              "                                      Могилевская обл.   10942                0.0  ...         0.0\n",
              "                                      г. Минск           10942                0.0  ...         6.0\n",
              "                           Казахстан  г. Нур-Султан      13301               50.0  ...         0.0\n",
              "...                                                                           ...  ...         ...\n",
              "986           9943         Россия     Смоленская обл.    17460               21.0  ...        83.0\n",
              "998           0            Россия     Ленинградская обл. 18079                5.0  ...         9.0\n",
              "              3380         Россия     Ленинградская обл. 14956               74.0  ...        50.0\n",
              "              5410         Россия     г. Санкт-Петербург 14956              180.0  ...         0.0\n",
              "              6346         Россия     Респ. Башкортостан 10737                0.0  ...        21.0\n",
              "\n",
              "[941 rows x 6 columns]"
            ]
          },
          "metadata": {},
          "execution_count": 24
        }
      ]
    },
    {
      "cell_type": "code",
      "metadata": {
        "id": "6heWTzKqZLI9"
      },
      "source": [
        "predictions = val_data.copy()\n",
        "predictions.iloc[:, :] = np.nan\n",
        "predictions.iloc[:, 0] = tr_data.iloc[:, -1]"
      ],
      "execution_count": null,
      "outputs": []
    },
    {
      "cell_type": "code",
      "metadata": {
        "id": "bBAqOK0qZLI-"
      },
      "source": [
        "predictions.ffill(axis=1, inplace=True)"
      ],
      "execution_count": null,
      "outputs": []
    },
    {
      "cell_type": "code",
      "metadata": {
        "colab": {
          "base_uri": "https://localhost:8080/",
          "height": 481
        },
        "id": "SV9HbOapZLI-",
        "outputId": "896577d3-8989-4c76-84b9-4348f71aa515"
      },
      "source": [
        "predictions"
      ],
      "execution_count": null,
      "outputs": [
        {
          "output_type": "execute_result",
          "data": {
            "text/html": [
              "<div>\n",
              "<style scoped>\n",
              "    .dataframe tbody tr th:only-of-type {\n",
              "        vertical-align: middle;\n",
              "    }\n",
              "\n",
              "    .dataframe tbody tr th {\n",
              "        vertical-align: top;\n",
              "    }\n",
              "\n",
              "    .dataframe thead th {\n",
              "        text-align: right;\n",
              "    }\n",
              "</style>\n",
              "<table border=\"1\" class=\"dataframe\">\n",
              "  <thead>\n",
              "    <tr style=\"text-align: right;\">\n",
              "      <th></th>\n",
              "      <th></th>\n",
              "      <th></th>\n",
              "      <th></th>\n",
              "      <th>month</th>\n",
              "      <th>2020-02-01</th>\n",
              "      <th>2020-03-01</th>\n",
              "      <th>2020-04-01</th>\n",
              "      <th>2020-05-01</th>\n",
              "      <th>2020-06-01</th>\n",
              "      <th>2020-07-01</th>\n",
              "    </tr>\n",
              "    <tr>\n",
              "      <th>material_code</th>\n",
              "      <th>company_code</th>\n",
              "      <th>country</th>\n",
              "      <th>region</th>\n",
              "      <th>manager_code</th>\n",
              "      <th></th>\n",
              "      <th></th>\n",
              "      <th></th>\n",
              "      <th></th>\n",
              "      <th></th>\n",
              "      <th></th>\n",
              "    </tr>\n",
              "  </thead>\n",
              "  <tbody>\n",
              "    <tr>\n",
              "      <th>124</th>\n",
              "      <th>7278</th>\n",
              "      <th>Россия</th>\n",
              "      <th>Респ. Татарстан</th>\n",
              "      <th>17460</th>\n",
              "      <td>0.0</td>\n",
              "      <td>0.0</td>\n",
              "      <td>0.0</td>\n",
              "      <td>0.0</td>\n",
              "      <td>0.0</td>\n",
              "      <td>0.0</td>\n",
              "    </tr>\n",
              "    <tr>\n",
              "      <th rowspan=\"4\" valign=\"top\">133</th>\n",
              "      <th rowspan=\"4\" valign=\"top\">0</th>\n",
              "      <th rowspan=\"3\" valign=\"top\">Белоруссия</th>\n",
              "      <th>Минская обл.</th>\n",
              "      <th>10942</th>\n",
              "      <td>17.0</td>\n",
              "      <td>17.0</td>\n",
              "      <td>17.0</td>\n",
              "      <td>17.0</td>\n",
              "      <td>17.0</td>\n",
              "      <td>17.0</td>\n",
              "    </tr>\n",
              "    <tr>\n",
              "      <th>Могилевская обл.</th>\n",
              "      <th>10942</th>\n",
              "      <td>0.0</td>\n",
              "      <td>0.0</td>\n",
              "      <td>0.0</td>\n",
              "      <td>0.0</td>\n",
              "      <td>0.0</td>\n",
              "      <td>0.0</td>\n",
              "    </tr>\n",
              "    <tr>\n",
              "      <th>г. Минск</th>\n",
              "      <th>10942</th>\n",
              "      <td>0.0</td>\n",
              "      <td>0.0</td>\n",
              "      <td>0.0</td>\n",
              "      <td>0.0</td>\n",
              "      <td>0.0</td>\n",
              "      <td>0.0</td>\n",
              "    </tr>\n",
              "    <tr>\n",
              "      <th>Казахстан</th>\n",
              "      <th>г. Нур-Султан</th>\n",
              "      <th>13301</th>\n",
              "      <td>0.0</td>\n",
              "      <td>0.0</td>\n",
              "      <td>0.0</td>\n",
              "      <td>0.0</td>\n",
              "      <td>0.0</td>\n",
              "      <td>0.0</td>\n",
              "    </tr>\n",
              "    <tr>\n",
              "      <th>...</th>\n",
              "      <th>...</th>\n",
              "      <th>...</th>\n",
              "      <th>...</th>\n",
              "      <th>...</th>\n",
              "      <td>...</td>\n",
              "      <td>...</td>\n",
              "      <td>...</td>\n",
              "      <td>...</td>\n",
              "      <td>...</td>\n",
              "      <td>...</td>\n",
              "    </tr>\n",
              "    <tr>\n",
              "      <th>986</th>\n",
              "      <th>9943</th>\n",
              "      <th>Россия</th>\n",
              "      <th>Смоленская обл.</th>\n",
              "      <th>17460</th>\n",
              "      <td>0.0</td>\n",
              "      <td>0.0</td>\n",
              "      <td>0.0</td>\n",
              "      <td>0.0</td>\n",
              "      <td>0.0</td>\n",
              "      <td>0.0</td>\n",
              "    </tr>\n",
              "    <tr>\n",
              "      <th rowspan=\"4\" valign=\"top\">998</th>\n",
              "      <th>0</th>\n",
              "      <th>Россия</th>\n",
              "      <th>Ленинградская обл.</th>\n",
              "      <th>18079</th>\n",
              "      <td>5.0</td>\n",
              "      <td>5.0</td>\n",
              "      <td>5.0</td>\n",
              "      <td>5.0</td>\n",
              "      <td>5.0</td>\n",
              "      <td>5.0</td>\n",
              "    </tr>\n",
              "    <tr>\n",
              "      <th>3380</th>\n",
              "      <th>Россия</th>\n",
              "      <th>Ленинградская обл.</th>\n",
              "      <th>14956</th>\n",
              "      <td>73.0</td>\n",
              "      <td>73.0</td>\n",
              "      <td>73.0</td>\n",
              "      <td>73.0</td>\n",
              "      <td>73.0</td>\n",
              "      <td>73.0</td>\n",
              "    </tr>\n",
              "    <tr>\n",
              "      <th>5410</th>\n",
              "      <th>Россия</th>\n",
              "      <th>г. Санкт-Петербург</th>\n",
              "      <th>14956</th>\n",
              "      <td>100.0</td>\n",
              "      <td>100.0</td>\n",
              "      <td>100.0</td>\n",
              "      <td>100.0</td>\n",
              "      <td>100.0</td>\n",
              "      <td>100.0</td>\n",
              "    </tr>\n",
              "    <tr>\n",
              "      <th>6346</th>\n",
              "      <th>Россия</th>\n",
              "      <th>Респ. Башкортостан</th>\n",
              "      <th>10737</th>\n",
              "      <td>40.0</td>\n",
              "      <td>40.0</td>\n",
              "      <td>40.0</td>\n",
              "      <td>40.0</td>\n",
              "      <td>40.0</td>\n",
              "      <td>40.0</td>\n",
              "    </tr>\n",
              "  </tbody>\n",
              "</table>\n",
              "<p>941 rows × 6 columns</p>\n",
              "</div>"
            ],
            "text/plain": [
              "month                                                                  2020-02-01  ...  2020-07-01\n",
              "material_code company_code country    region             manager_code              ...            \n",
              "124           7278         Россия     Респ. Татарстан    17460                0.0  ...         0.0\n",
              "133           0            Белоруссия Минская обл.       10942               17.0  ...        17.0\n",
              "                                      Могилевская обл.   10942                0.0  ...         0.0\n",
              "                                      г. Минск           10942                0.0  ...         0.0\n",
              "                           Казахстан  г. Нур-Султан      13301                0.0  ...         0.0\n",
              "...                                                                           ...  ...         ...\n",
              "986           9943         Россия     Смоленская обл.    17460                0.0  ...         0.0\n",
              "998           0            Россия     Ленинградская обл. 18079                5.0  ...         5.0\n",
              "              3380         Россия     Ленинградская обл. 14956               73.0  ...        73.0\n",
              "              5410         Россия     г. Санкт-Петербург 14956              100.0  ...       100.0\n",
              "              6346         Россия     Респ. Башкортостан 10737               40.0  ...        40.0\n",
              "\n",
              "[941 rows x 6 columns]"
            ]
          },
          "metadata": {},
          "execution_count": 27
        }
      ]
    },
    {
      "cell_type": "code",
      "metadata": {
        "colab": {
          "base_uri": "https://localhost:8080/"
        },
        "id": "SM8oApuaZLI-",
        "outputId": "f3d1de3e-167c-4c05-9fb7-5ec079644857"
      },
      "source": [
        "print(\"Ошибка на валидационном множестве:\", f\"{np.sqrt(mean_squared_log_error(val_data, predictions)):.4f}\")"
      ],
      "execution_count": null,
      "outputs": [
        {
          "output_type": "stream",
          "name": "stdout",
          "text": [
            "Ошибка на валидационном множестве: 2.3817\n"
          ]
        }
      ]
    },
    {
      "cell_type": "markdown",
      "metadata": {
        "id": "LRVKrUZtZLI-"
      },
      "source": [
        "# Baseline #2: среднее за последние три месяца"
      ]
    },
    {
      "cell_type": "code",
      "metadata": {
        "id": "hXV3Ptn5ZLI-"
      },
      "source": [
        "predictions = val_data.copy()\n",
        "predictions.iloc[:, :] = np.nan\n",
        "predictions.iloc[:, 0] = tr_data.iloc[:, -3:].mean(axis=1)"
      ],
      "execution_count": null,
      "outputs": []
    },
    {
      "cell_type": "code",
      "metadata": {
        "id": "dtq8Oxm6ZLI_"
      },
      "source": [
        "predictions.ffill(axis=1, inplace=True)"
      ],
      "execution_count": null,
      "outputs": []
    },
    {
      "cell_type": "code",
      "metadata": {
        "colab": {
          "base_uri": "https://localhost:8080/"
        },
        "id": "OwVUDLLWZLI_",
        "outputId": "dc54f8af-982a-4187-ce8f-7351dc471e0b"
      },
      "source": [
        "predictions"
      ],
      "execution_count": null,
      "outputs": [
        {
          "output_type": "execute_result",
          "data": {
            "text/html": [
              "<div>\n",
              "<style scoped>\n",
              "    .dataframe tbody tr th:only-of-type {\n",
              "        vertical-align: middle;\n",
              "    }\n",
              "\n",
              "    .dataframe tbody tr th {\n",
              "        vertical-align: top;\n",
              "    }\n",
              "\n",
              "    .dataframe thead th {\n",
              "        text-align: right;\n",
              "    }\n",
              "</style>\n",
              "<table border=\"1\" class=\"dataframe\">\n",
              "  <thead>\n",
              "    <tr style=\"text-align: right;\">\n",
              "      <th></th>\n",
              "      <th></th>\n",
              "      <th></th>\n",
              "      <th></th>\n",
              "      <th>month</th>\n",
              "      <th>2020-02-01</th>\n",
              "      <th>2020-03-01</th>\n",
              "      <th>2020-04-01</th>\n",
              "      <th>2020-05-01</th>\n",
              "      <th>2020-06-01</th>\n",
              "      <th>2020-07-01</th>\n",
              "    </tr>\n",
              "    <tr>\n",
              "      <th>material_code</th>\n",
              "      <th>company_code</th>\n",
              "      <th>country</th>\n",
              "      <th>region</th>\n",
              "      <th>manager_code</th>\n",
              "      <th></th>\n",
              "      <th></th>\n",
              "      <th></th>\n",
              "      <th></th>\n",
              "      <th></th>\n",
              "      <th></th>\n",
              "    </tr>\n",
              "  </thead>\n",
              "  <tbody>\n",
              "    <tr>\n",
              "      <th>124</th>\n",
              "      <th>7278</th>\n",
              "      <th>Россия</th>\n",
              "      <th>Респ. Татарстан</th>\n",
              "      <th>17460</th>\n",
              "      <td>0.000000</td>\n",
              "      <td>0.000000</td>\n",
              "      <td>0.000000</td>\n",
              "      <td>0.000000</td>\n",
              "      <td>0.000000</td>\n",
              "      <td>0.000000</td>\n",
              "    </tr>\n",
              "    <tr>\n",
              "      <th rowspan=\"4\" valign=\"top\">133</th>\n",
              "      <th rowspan=\"4\" valign=\"top\">0</th>\n",
              "      <th rowspan=\"3\" valign=\"top\">Белоруссия</th>\n",
              "      <th>Минская обл.</th>\n",
              "      <th>10942</th>\n",
              "      <td>144.000000</td>\n",
              "      <td>144.000000</td>\n",
              "      <td>144.000000</td>\n",
              "      <td>144.000000</td>\n",
              "      <td>144.000000</td>\n",
              "      <td>144.000000</td>\n",
              "    </tr>\n",
              "    <tr>\n",
              "      <th>Могилевская обл.</th>\n",
              "      <th>10942</th>\n",
              "      <td>0.000000</td>\n",
              "      <td>0.000000</td>\n",
              "      <td>0.000000</td>\n",
              "      <td>0.000000</td>\n",
              "      <td>0.000000</td>\n",
              "      <td>0.000000</td>\n",
              "    </tr>\n",
              "    <tr>\n",
              "      <th>г. Минск</th>\n",
              "      <th>10942</th>\n",
              "      <td>14.000000</td>\n",
              "      <td>14.000000</td>\n",
              "      <td>14.000000</td>\n",
              "      <td>14.000000</td>\n",
              "      <td>14.000000</td>\n",
              "      <td>14.000000</td>\n",
              "    </tr>\n",
              "    <tr>\n",
              "      <th>Казахстан</th>\n",
              "      <th>г. Нур-Султан</th>\n",
              "      <th>13301</th>\n",
              "      <td>31.666667</td>\n",
              "      <td>31.666667</td>\n",
              "      <td>31.666667</td>\n",
              "      <td>31.666667</td>\n",
              "      <td>31.666667</td>\n",
              "      <td>31.666667</td>\n",
              "    </tr>\n",
              "    <tr>\n",
              "      <th>...</th>\n",
              "      <th>...</th>\n",
              "      <th>...</th>\n",
              "      <th>...</th>\n",
              "      <th>...</th>\n",
              "      <td>...</td>\n",
              "      <td>...</td>\n",
              "      <td>...</td>\n",
              "      <td>...</td>\n",
              "      <td>...</td>\n",
              "      <td>...</td>\n",
              "    </tr>\n",
              "    <tr>\n",
              "      <th>986</th>\n",
              "      <th>9943</th>\n",
              "      <th>Россия</th>\n",
              "      <th>Смоленская обл.</th>\n",
              "      <th>17460</th>\n",
              "      <td>0.000000</td>\n",
              "      <td>0.000000</td>\n",
              "      <td>0.000000</td>\n",
              "      <td>0.000000</td>\n",
              "      <td>0.000000</td>\n",
              "      <td>0.000000</td>\n",
              "    </tr>\n",
              "    <tr>\n",
              "      <th rowspan=\"4\" valign=\"top\">998</th>\n",
              "      <th>0</th>\n",
              "      <th>Россия</th>\n",
              "      <th>Ленинградская обл.</th>\n",
              "      <th>18079</th>\n",
              "      <td>3.666667</td>\n",
              "      <td>3.666667</td>\n",
              "      <td>3.666667</td>\n",
              "      <td>3.666667</td>\n",
              "      <td>3.666667</td>\n",
              "      <td>3.666667</td>\n",
              "    </tr>\n",
              "    <tr>\n",
              "      <th>3380</th>\n",
              "      <th>Россия</th>\n",
              "      <th>Ленинградская обл.</th>\n",
              "      <th>14956</th>\n",
              "      <td>68.000000</td>\n",
              "      <td>68.000000</td>\n",
              "      <td>68.000000</td>\n",
              "      <td>68.000000</td>\n",
              "      <td>68.000000</td>\n",
              "      <td>68.000000</td>\n",
              "    </tr>\n",
              "    <tr>\n",
              "      <th>5410</th>\n",
              "      <th>Россия</th>\n",
              "      <th>г. Санкт-Петербург</th>\n",
              "      <th>14956</th>\n",
              "      <td>113.333333</td>\n",
              "      <td>113.333333</td>\n",
              "      <td>113.333333</td>\n",
              "      <td>113.333333</td>\n",
              "      <td>113.333333</td>\n",
              "      <td>113.333333</td>\n",
              "    </tr>\n",
              "    <tr>\n",
              "      <th>6346</th>\n",
              "      <th>Россия</th>\n",
              "      <th>Респ. Башкортостан</th>\n",
              "      <th>10737</th>\n",
              "      <td>40.000000</td>\n",
              "      <td>40.000000</td>\n",
              "      <td>40.000000</td>\n",
              "      <td>40.000000</td>\n",
              "      <td>40.000000</td>\n",
              "      <td>40.000000</td>\n",
              "    </tr>\n",
              "  </tbody>\n",
              "</table>\n",
              "<p>941 rows × 6 columns</p>\n",
              "</div>"
            ],
            "text/plain": [
              "month                                                                  2020-02-01  ...  2020-07-01\n",
              "material_code company_code country    region             manager_code              ...            \n",
              "124           7278         Россия     Респ. Татарстан    17460           0.000000  ...    0.000000\n",
              "133           0            Белоруссия Минская обл.       10942         144.000000  ...  144.000000\n",
              "                                      Могилевская обл.   10942           0.000000  ...    0.000000\n",
              "                                      г. Минск           10942          14.000000  ...   14.000000\n",
              "                           Казахстан  г. Нур-Султан      13301          31.666667  ...   31.666667\n",
              "...                                                                           ...  ...         ...\n",
              "986           9943         Россия     Смоленская обл.    17460           0.000000  ...    0.000000\n",
              "998           0            Россия     Ленинградская обл. 18079           3.666667  ...    3.666667\n",
              "              3380         Россия     Ленинградская обл. 14956          68.000000  ...   68.000000\n",
              "              5410         Россия     г. Санкт-Петербург 14956         113.333333  ...  113.333333\n",
              "              6346         Россия     Респ. Башкортостан 10737          40.000000  ...   40.000000\n",
              "\n",
              "[941 rows x 6 columns]"
            ]
          },
          "metadata": {},
          "execution_count": 31
        }
      ]
    },
    {
      "cell_type": "code",
      "metadata": {
        "colab": {
          "base_uri": "https://localhost:8080/"
        },
        "id": "MdVhbhvBZLI_",
        "outputId": "2eb92fc0-42d9-42f6-a513-c737b9e6326c"
      },
      "source": [
        "print(\"Ошибка на валидационном множестве:\", f\"{np.sqrt(mean_squared_log_error(val_data, predictions)):.4f}\")"
      ],
      "execution_count": null,
      "outputs": [
        {
          "output_type": "stream",
          "name": "stdout",
          "text": [
            "Ошибка на валидационном множестве: 2.2008\n"
          ]
        }
      ]
    },
    {
      "cell_type": "markdown",
      "metadata": {
        "id": "1tb6v0DAZLI_"
      },
      "source": [
        "# Baseline #3: CatBoostRegressor\n",
        "\n",
        "Признаки:\n",
        "\n",
        "- оригинальные категориальные признаки,\n",
        "- месяц, для которого предсказываем,\n",
        "- среднее, минимум и максимум за год,\n",
        "- последние 6 месяцев до месяца, для которого предсказываем.\n",
        "\n",
        "Для тренировки будем использовать период `2019-01-01` по `2019-06-01`, для валидации: с `2019-07-01` по `2019-12-01`, для тестирования: с `2020-01-01` по `2020-07-01`."
      ]
    },
    {
      "cell_type": "code",
      "metadata": {
        "id": "6EfB5ZCRfylc"
      },
      "source": [
        ""
      ],
      "execution_count": null,
      "outputs": []
    },
    {
      "cell_type": "code",
      "metadata": {
        "id": "n98as6-hZLI_"
      },
      "source": [
        "def get_features(df: pd.DataFrame, month: pd.Timestamp) -> pd.DataFrame:\n",
        "    \"\"\"Calculate features for `month`.\"\"\"\n",
        "\n",
        "       \n",
        "    start_period = month - pd.offsets.MonthBegin(6)\n",
        "    end_period = month - pd.offsets.MonthBegin(1)\n",
        "  \n",
        "          \n",
        "    df = df.loc[:, :end_period]\n",
        "\n",
        "    features = pd.DataFrame([], index=df.index)\n",
        "    features[\"month\"] = month.month\n",
        "    features[[f\"vol_tm{i}\" for i in range(6, 0, -1)]] = df.loc[:, start_period:end_period].copy()\n",
        "   \n",
        "    \n",
        "    rolling_12 = df.rolling(12, axis=1, min_periods=1)\n",
        "    rolling_6 = df.rolling(6, axis=1, min_periods=1)\n",
        "    rolling_6s = df.rolling(6, axis=1, min_periods=1,win_type='gaussian')\n",
        "    \n",
        "\n",
        "    features = features.join(rolling_12.mean().iloc[:, -1].rename(\"last_year_avg_12\"))\n",
        "    features = features.join(rolling_12.min().iloc[:, -1].rename(\"last_year_min_12\"))\n",
        "    features = features.join(rolling_12.max().iloc[:, -1].rename(\"last_year_max_12\"))\n",
        "    features = features.join(rolling_12.sum().iloc[:, -1].rename(\"sum_12\"))\n",
        "    features = features.join(rolling_12.std().iloc[:, -1].rename(\"std_12\"))\n",
        "    features = features.join(rolling_6.mean().iloc[:, -1].rename(\"last_year_avg_6\"))\n",
        "    features = features.join(rolling_6.min().iloc[:, -1].rename(\"last_year_min_6\"))\n",
        "    features = features.join(rolling_6.max().iloc[:, -1].rename(\"last_year_max_6\"))\n",
        "    features = features.join(rolling_6s.sum(std=3).iloc[:, -1].rename(\"sum_6\"))\n",
        "    features = features.join(rolling_6.sum().iloc[:, -1].rename(\"sum_6_\"))\n",
        "    features = features.join(rolling_6.std().iloc[:, -1].rename(\"std_6\"))\n",
        "    features['zeros'] = (df==0).sum(axis=1)\n",
        "\n",
        "    \n",
        "    return features"
      ],
      "execution_count": null,
      "outputs": []
    },
    {
      "cell_type": "code",
      "metadata": {
        "id": "fkrsEUiAZLJA"
      },
      "source": [
        "tr_range = pd.date_range(\"2019-01-01\", \"2020-05-01\", freq=\"MS\")\n",
        "#val_range = pd.date_range(\"2019-07-01\", \"2019-12-01\", freq=\"MS\")\n",
        "ts_range = pd.date_range(\"2020-06-01\", \"2020-07-01\", freq=\"MS\")"
      ],
      "execution_count": null,
      "outputs": []
    },
    {
      "cell_type": "code",
      "metadata": {
        "id": "6KYiWOmfZLJA"
      },
      "source": [
        "full_features = {}\n",
        "\n",
        "for dataset, dataset_range in zip([\"tr\", \"ts\"], [tr_range, ts_range]):\n",
        "    dataset_features = []\n",
        "    for target_month in dataset_range:\n",
        "        features = get_features(group_ts, target_month)\n",
        "        features[\"target\"] = group_ts[target_month]\n",
        "        dataset_features.append(features.reset_index())\n",
        "    full_features[dataset] = pd.concat(dataset_features, ignore_index=True)"
      ],
      "execution_count": null,
      "outputs": []
    },
    {
      "cell_type": "markdown",
      "metadata": {
        "id": "00akzBFsZLJB"
      },
      "source": [
        "## Тренировка"
      ]
    },
    {
      "cell_type": "code",
      "metadata": {
        "id": "fPL7JwF8ZLJB"
      },
      "source": [
        "CAT_COLS = [\"material_code\", \"company_code\", \"country\", \"region\", \"manager_code\", \"month\"]\n",
        "FTS_COLS = [\"material_code\", \"company_code\", \"country\", \"region\", \"manager_code\", \"month\",\n",
        "             \"vol_tm3\", \"vol_tm2\", \"vol_tm1\",'sum_6_',\n",
        "            \"last_year_avg_12\", \"last_year_min_12\", \"last_year_max_12\",\"sum_12\",'zeros','sum_6']\n",
        "            #\"last_year_avg_6\", \"last_year_min_6\", \"last_year_max_6\",'sum_6','std_6','std_12',  \"vol_tm6\", \"vol_tm5\", \"vol_tm4\",\n",
        "            # ,            \"vol_tm7\", \"vol_tm8\", \"vol_tm9\"\n",
        "TARGET = \"target\""
      ],
      "execution_count": null,
      "outputs": []
    },
    {
      "cell_type": "code",
      "metadata": {
        "colab": {
          "base_uri": "https://localhost:8080/"
        },
        "id": "WVd9BixRZLJB",
        "outputId": "5ecce985-88e9-4a80-d66f-ad4c63f2fb70"
      },
      "source": [
        "model = CatBoostRegressor(iterations=1000,\n",
        "                          early_stopping_rounds=30,\n",
        "                          depth=7,\n",
        "                          learning_rate=0.02,\n",
        "                          cat_features=CAT_COLS,\n",
        "                          random_state=RS,\n",
        "                          verbose=10)\n",
        "model.fit(full_features[\"tr\"][FTS_COLS], full_features[\"tr\"][TARGET])\n",
        "#, eval_set=(full_features[\"val\"][FTS_COLS], full_features[\"val\"][TARGET])"
      ],
      "execution_count": null,
      "outputs": [
        {
          "output_type": "stream",
          "name": "stdout",
          "text": [
            "0:\tlearn: 315.2050073\ttotal: 87ms\tremaining: 1m 26s\n",
            "10:\tlearn: 279.8939067\ttotal: 354ms\tremaining: 31.8s\n",
            "20:\tlearn: 252.5413234\ttotal: 635ms\tremaining: 29.6s\n",
            "30:\tlearn: 230.6914437\ttotal: 928ms\tremaining: 29s\n",
            "40:\tlearn: 213.8664053\ttotal: 1.18s\tremaining: 27.7s\n",
            "50:\tlearn: 200.8325385\ttotal: 1.44s\tremaining: 26.9s\n",
            "60:\tlearn: 190.6537779\ttotal: 1.7s\tremaining: 26.1s\n",
            "70:\tlearn: 182.9307056\ttotal: 1.97s\tremaining: 25.8s\n",
            "80:\tlearn: 177.1151131\ttotal: 2.22s\tremaining: 25.2s\n",
            "90:\tlearn: 172.2789671\ttotal: 2.45s\tremaining: 24.5s\n",
            "100:\tlearn: 168.0832528\ttotal: 2.71s\tremaining: 24.1s\n",
            "110:\tlearn: 164.7038969\ttotal: 2.96s\tremaining: 23.7s\n",
            "120:\tlearn: 162.0930468\ttotal: 3.22s\tremaining: 23.4s\n",
            "130:\tlearn: 159.7092093\ttotal: 3.46s\tremaining: 22.9s\n",
            "140:\tlearn: 157.8777970\ttotal: 3.7s\tremaining: 22.5s\n",
            "150:\tlearn: 156.3569740\ttotal: 3.95s\tremaining: 22.2s\n",
            "160:\tlearn: 154.8690618\ttotal: 4.21s\tremaining: 21.9s\n",
            "170:\tlearn: 153.4771448\ttotal: 4.45s\tremaining: 21.6s\n",
            "180:\tlearn: 152.3793934\ttotal: 4.71s\tremaining: 21.3s\n",
            "190:\tlearn: 151.1038450\ttotal: 4.97s\tremaining: 21.1s\n",
            "200:\tlearn: 150.0967515\ttotal: 5.22s\tremaining: 20.8s\n",
            "210:\tlearn: 149.1922560\ttotal: 5.47s\tremaining: 20.4s\n",
            "220:\tlearn: 148.0889150\ttotal: 5.72s\tremaining: 20.2s\n",
            "230:\tlearn: 147.2967666\ttotal: 5.98s\tremaining: 19.9s\n",
            "240:\tlearn: 146.4449954\ttotal: 6.22s\tremaining: 19.6s\n",
            "250:\tlearn: 145.5495901\ttotal: 6.47s\tremaining: 19.3s\n",
            "260:\tlearn: 144.8653626\ttotal: 6.72s\tremaining: 19s\n",
            "270:\tlearn: 144.1950488\ttotal: 7s\tremaining: 18.8s\n",
            "280:\tlearn: 143.4843930\ttotal: 7.25s\tremaining: 18.6s\n",
            "290:\tlearn: 142.8247624\ttotal: 7.51s\tremaining: 18.3s\n",
            "300:\tlearn: 142.1231723\ttotal: 7.76s\tremaining: 18s\n",
            "310:\tlearn: 141.4951770\ttotal: 8.02s\tremaining: 17.8s\n",
            "320:\tlearn: 140.9337489\ttotal: 8.28s\tremaining: 17.5s\n",
            "330:\tlearn: 140.2956854\ttotal: 8.53s\tremaining: 17.2s\n",
            "340:\tlearn: 139.7083722\ttotal: 8.77s\tremaining: 17s\n",
            "350:\tlearn: 138.9896605\ttotal: 9.04s\tremaining: 16.7s\n",
            "360:\tlearn: 138.3801703\ttotal: 9.3s\tremaining: 16.5s\n",
            "370:\tlearn: 137.8736755\ttotal: 9.56s\tremaining: 16.2s\n",
            "380:\tlearn: 137.3574745\ttotal: 9.82s\tremaining: 15.9s\n",
            "390:\tlearn: 136.7710817\ttotal: 10.1s\tremaining: 15.7s\n",
            "400:\tlearn: 136.1896658\ttotal: 10.4s\tremaining: 15.5s\n",
            "410:\tlearn: 135.7555909\ttotal: 10.6s\tremaining: 15.2s\n",
            "420:\tlearn: 135.2335580\ttotal: 10.9s\tremaining: 15s\n",
            "430:\tlearn: 134.6723690\ttotal: 11.1s\tremaining: 14.7s\n",
            "440:\tlearn: 134.2123394\ttotal: 11.4s\tremaining: 14.4s\n",
            "450:\tlearn: 133.6248362\ttotal: 11.6s\tremaining: 14.2s\n",
            "460:\tlearn: 133.0292494\ttotal: 11.9s\tremaining: 13.9s\n",
            "470:\tlearn: 132.4399206\ttotal: 12.2s\tremaining: 13.7s\n",
            "480:\tlearn: 132.0903737\ttotal: 12.4s\tremaining: 13.4s\n",
            "490:\tlearn: 131.3479103\ttotal: 12.7s\tremaining: 13.1s\n",
            "500:\tlearn: 130.7807270\ttotal: 12.9s\tremaining: 12.9s\n",
            "510:\tlearn: 130.3808500\ttotal: 13.2s\tremaining: 12.6s\n",
            "520:\tlearn: 129.8206530\ttotal: 13.4s\tremaining: 12.3s\n",
            "530:\tlearn: 129.2768490\ttotal: 13.7s\tremaining: 12.1s\n",
            "540:\tlearn: 128.7036687\ttotal: 13.9s\tremaining: 11.8s\n",
            "550:\tlearn: 128.1550921\ttotal: 14.2s\tremaining: 11.5s\n",
            "560:\tlearn: 127.5980210\ttotal: 14.4s\tremaining: 11.3s\n",
            "570:\tlearn: 127.0040967\ttotal: 14.7s\tremaining: 11s\n",
            "580:\tlearn: 126.6017655\ttotal: 14.9s\tremaining: 10.8s\n",
            "590:\tlearn: 126.2091863\ttotal: 15.2s\tremaining: 10.5s\n",
            "600:\tlearn: 125.6594407\ttotal: 15.4s\tremaining: 10.2s\n",
            "610:\tlearn: 125.3536450\ttotal: 15.7s\tremaining: 9.97s\n",
            "620:\tlearn: 124.9274968\ttotal: 15.9s\tremaining: 9.71s\n",
            "630:\tlearn: 124.5452414\ttotal: 16.2s\tremaining: 9.45s\n",
            "640:\tlearn: 124.1058994\ttotal: 16.4s\tremaining: 9.19s\n",
            "650:\tlearn: 123.7528529\ttotal: 16.6s\tremaining: 8.92s\n",
            "660:\tlearn: 123.3408548\ttotal: 16.9s\tremaining: 8.65s\n",
            "670:\tlearn: 123.0044339\ttotal: 17.1s\tremaining: 8.39s\n",
            "680:\tlearn: 122.5148319\ttotal: 17.4s\tremaining: 8.14s\n",
            "690:\tlearn: 122.1135109\ttotal: 17.6s\tremaining: 7.88s\n",
            "700:\tlearn: 121.6281499\ttotal: 17.9s\tremaining: 7.62s\n",
            "710:\tlearn: 121.2049236\ttotal: 18.1s\tremaining: 7.36s\n",
            "720:\tlearn: 120.7463792\ttotal: 18.3s\tremaining: 7.09s\n",
            "730:\tlearn: 120.3139886\ttotal: 18.6s\tremaining: 6.84s\n",
            "740:\tlearn: 119.7554611\ttotal: 18.8s\tremaining: 6.58s\n",
            "750:\tlearn: 119.2544743\ttotal: 19.1s\tremaining: 6.33s\n",
            "760:\tlearn: 118.8126085\ttotal: 19.3s\tremaining: 6.07s\n",
            "770:\tlearn: 118.2907134\ttotal: 19.6s\tremaining: 5.82s\n",
            "780:\tlearn: 117.7798379\ttotal: 19.8s\tremaining: 5.56s\n",
            "790:\tlearn: 117.3245042\ttotal: 20.1s\tremaining: 5.3s\n",
            "800:\tlearn: 117.0125521\ttotal: 20.3s\tremaining: 5.04s\n",
            "810:\tlearn: 116.6557411\ttotal: 20.5s\tremaining: 4.78s\n",
            "820:\tlearn: 116.2467199\ttotal: 20.8s\tremaining: 4.53s\n",
            "830:\tlearn: 115.8532919\ttotal: 21s\tremaining: 4.27s\n",
            "840:\tlearn: 115.3687783\ttotal: 21.3s\tremaining: 4.02s\n",
            "850:\tlearn: 114.9701619\ttotal: 21.5s\tremaining: 3.76s\n",
            "860:\tlearn: 114.6657778\ttotal: 21.7s\tremaining: 3.51s\n",
            "870:\tlearn: 114.3845176\ttotal: 22s\tremaining: 3.26s\n",
            "880:\tlearn: 114.0239364\ttotal: 22.3s\tremaining: 3.01s\n",
            "890:\tlearn: 113.6895768\ttotal: 22.5s\tremaining: 2.76s\n",
            "900:\tlearn: 113.3012282\ttotal: 22.8s\tremaining: 2.5s\n",
            "910:\tlearn: 112.9415091\ttotal: 23.1s\tremaining: 2.25s\n",
            "920:\tlearn: 112.6041971\ttotal: 23.3s\tremaining: 2s\n",
            "930:\tlearn: 112.3744688\ttotal: 23.6s\tremaining: 1.75s\n",
            "940:\tlearn: 112.0698121\ttotal: 23.8s\tremaining: 1.49s\n",
            "950:\tlearn: 111.7377092\ttotal: 24s\tremaining: 1.24s\n",
            "960:\tlearn: 111.4890832\ttotal: 24.2s\tremaining: 984ms\n",
            "970:\tlearn: 111.1478449\ttotal: 24.5s\tremaining: 731ms\n",
            "980:\tlearn: 110.8243526\ttotal: 24.7s\tremaining: 479ms\n",
            "990:\tlearn: 110.6511049\ttotal: 25s\tremaining: 227ms\n",
            "999:\tlearn: 110.4714974\ttotal: 25.2s\tremaining: 0us\n"
          ]
        },
        {
          "output_type": "execute_result",
          "data": {
            "text/plain": [
              "<catboost.core.CatBoostRegressor at 0x7f04f6a31cd0>"
            ]
          },
          "metadata": {},
          "execution_count": 19
        }
      ]
    },
    {
      "cell_type": "code",
      "metadata": {
        "colab": {
          "base_uri": "https://localhost:8080/"
        },
        "id": "tnnZG3apZLJB",
        "outputId": "564c99ae-1188-4d6a-d355-fcd7a73a3ca5"
      },
      "source": [
        "pd.Series(model.feature_importances_, index=FTS_COLS).sort_values(ascending=False)"
      ],
      "execution_count": null,
      "outputs": [
        {
          "output_type": "execute_result",
          "data": {
            "text/plain": [
              "vol_tm1             29.020200\n",
              "last_year_max_12    10.696730\n",
              "vol_tm2             10.154861\n",
              "vol_tm3             10.061976\n",
              "zeros                5.929280\n",
              "manager_code         5.405642\n",
              "sum_6_               4.367296\n",
              "month                4.330931\n",
              "material_code        3.399210\n",
              "sum_6                3.121727\n",
              "sum_12               3.071005\n",
              "last_year_avg_12     2.789476\n",
              "country              2.753926\n",
              "last_year_min_12     2.101824\n",
              "company_code         1.967774\n",
              "region               0.828142\n",
              "dtype: float64"
            ]
          },
          "metadata": {},
          "execution_count": 20
        }
      ]
    },
    {
      "cell_type": "code",
      "metadata": {
        "id": "YVmukbpRZLJC"
      },
      "source": [
        "tr_preds = abs(model.predict(full_features[\"tr\"][FTS_COLS]))\n",
        "#val_preds = abs(model.predict(full_features[\"val\"][FTS_COLS]))\n",
        "ts_preds = abs(model.predict(full_features[\"ts\"][FTS_COLS]))"
      ],
      "execution_count": null,
      "outputs": []
    },
    {
      "cell_type": "code",
      "metadata": {
        "colab": {
          "base_uri": "https://localhost:8080/"
        },
        "id": "iUd9XHXVZLJC",
        "outputId": "63697d47-784d-4cba-daec-2a8f0c8dbcc0"
      },
      "source": [
        "print(\"Ошибка на тренировочном множестве:\",\n",
        "      f'{np.sqrt(mean_squared_log_error(full_features[\"tr\"][TARGET], tr_preds)):.4f}')\n",
        "#print(\"Ошибка на валидационном множестве:\",\n",
        "#      f'{np.sqrt(mean_squared_log_error(full_features[\"val\"][TARGET], val_preds)):.4f}')\n",
        "print(\"Ошибка на тестовом множестве:\",\n",
        "      f'{np.sqrt(mean_squared_log_error(full_features[\"ts\"][TARGET], ts_preds)):.4f}')"
      ],
      "execution_count": null,
      "outputs": [
        {
          "output_type": "stream",
          "name": "stdout",
          "text": [
            "Ошибка на тренировочном множестве: 1.9976\n",
            "Ошибка на тестовом множестве: 2.2148\n"
          ]
        }
      ]
    },
    {
      "cell_type": "markdown",
      "metadata": {
        "id": "Ft0U2plKZLJC"
      },
      "source": [
        "# Формирование загрузки"
      ]
    },
    {
      "cell_type": "code",
      "metadata": {
        "id": "-hk_YVRtZLJC"
      },
      "source": [
        "model.save_model(\"baseline_model.cbm\")"
      ],
      "execution_count": null,
      "outputs": []
    },
    {
      "cell_type": "code",
      "metadata": {
        "colab": {
          "base_uri": "https://localhost:8080/"
        },
        "id": "UMzBhBXVZLJD",
        "outputId": "8c364391-a274-4066-ce55-10d23aa70794"
      },
      "source": [
        "%%writefile predict.py\n",
        "\n",
        "import pathlib\n",
        "import pandas as pd\n",
        "from catboost import CatBoostRegressor\n",
        "\n",
        "MODEL_FILE = pathlib.Path(__file__).parent.joinpath(\"baseline_model.cbm\")\n",
        "AGG_COLS = [\"material_code\", \"company_code\", \"country\", \"region\", \"manager_code\"]\n",
        "\n",
        "def get_features(df: pd.DataFrame, month: pd.Timestamp) -> pd.DataFrame:\n",
        "    \"\"\"Вычисление признаков для `month`.\"\"\"\n",
        "\n",
        "    start_period = month - pd.offsets.MonthBegin(6)\n",
        "    end_period = month - pd.offsets.MonthBegin(1)\n",
        "\n",
        "    df = df.loc[:, :end_period]\n",
        "\n",
        "    features = pd.DataFrame([], index=df.index)\n",
        "    features[\"month\"] = month.month\n",
        "    features[[f\"vol_tm{i}\" for i in range(6, 0, -1)]] = df.loc[:, start_period:end_period].copy()\n",
        "\n",
        "    rolling_12 = df.rolling(12, axis=1, min_periods=1)\n",
        "    rolling_6 = df.rolling(6, axis=1, min_periods=3)\n",
        "    \n",
        "    features = features.join(rolling_12.mean().iloc[:, -1].rename(\"last_year_avg_12\"))\n",
        "    features = features.join(rolling_12.min().iloc[:, -1].rename(\"last_year_min_12\"))\n",
        "    features = features.join(rolling_12.max().iloc[:, -1].rename(\"last_year_max_12\"))\n",
        "    features = features.join(rolling_12.sum().iloc[:, -1].rename(\"sum_12\"))\n",
        "    features = features.join(rolling_12.std().iloc[:, -1].rename(\"std_12\"))\n",
        "    \n",
        "    features = features.join(rolling_6.mean().iloc[:, -1].rename(\"last_year_avg_6\"))\n",
        "    features = features.join(rolling_6.min().iloc[:, -1].rename(\"last_year_min_6\"))\n",
        "    features = features.join(rolling_6.max().iloc[:, -1].rename(\"last_year_max_6\"))\n",
        "    features = features.join(rolling_6.sum().iloc[:, -1].rename(\"sum_6\"))\n",
        "    features = features.join(rolling_6.std().iloc[:, -1].rename(\"std_6\"))\n",
        "    \n",
        "    features[\"month\"] = month.month\n",
        "    return features.reset_index()\n",
        "\n",
        "\n",
        "def predict(df: pd.DataFrame, month: pd.Timestamp) -> pd.DataFrame:\n",
        "    \"\"\"\n",
        "    Вычисление предсказаний.\n",
        "\n",
        "    Параметры:\n",
        "        df:\n",
        "          датафрейм, содержащий все сделки с начала тренировочного периода до `month`; типы\n",
        "          колонок совпадают с типами в ноутбуке `[SC2021] Baseline`,\n",
        "        month:\n",
        "          месяц, для которого вычисляются предсказания.\n",
        "\n",
        "    Результат:\n",
        "        Датафрейм предсказаний для каждой группы, содержащий колонки:\n",
        "            - `material_code`, `company_code`, `country`, `region`, `manager_code`,\n",
        "            - `prediction`.\n",
        "        Предсказанные значения находятся в колонке `prediction`.\n",
        "    \"\"\"\n",
        "\n",
        "    group_ts = df.groupby(AGG_COLS + [\"month\"])[\"volume\"].sum().unstack(fill_value=0)\n",
        "    features = get_features(group_ts, month)\n",
        "\n",
        "    model = CatBoostRegressor()\n",
        "    model.load_model(MODEL_FILE)\n",
        "    predictions = abs(model.predict(features[model.feature_names_]))\n",
        "\n",
        "    preds_df = features[AGG_COLS].copy()\n",
        "    preds_df[\"prediction\"] = predictions\n",
        "    return preds_df\n",
        "    "
      ],
      "execution_count": null,
      "outputs": [
        {
          "output_type": "stream",
          "name": "stdout",
          "text": [
            "Writing predict.py\n"
          ]
        }
      ]
    },
    {
      "cell_type": "markdown",
      "metadata": {
        "id": "bwmopQOBZLJD"
      },
      "source": [
        "Протестируем:"
      ]
    },
    {
      "cell_type": "code",
      "metadata": {
        "id": "In-QrcRkZLJD"
      },
      "source": [
        "import predict"
      ],
      "execution_count": null,
      "outputs": []
    },
    {
      "cell_type": "code",
      "metadata": {
        "colab": {
          "base_uri": "https://localhost:8080/",
          "height": 554
        },
        "id": "We4kVxA3ZLJD",
        "outputId": "faa524f1-1ce0-4039-de01-021fd9fab965"
      },
      "source": [
        "predict.get_features(group_ts.iloc[:, :-1], pd.Timestamp(\"2020-07-01\"))"
      ],
      "execution_count": null,
      "outputs": [
        {
          "output_type": "execute_result",
          "data": {
            "text/html": [
              "<div>\n",
              "<style scoped>\n",
              "    .dataframe tbody tr th:only-of-type {\n",
              "        vertical-align: middle;\n",
              "    }\n",
              "\n",
              "    .dataframe tbody tr th {\n",
              "        vertical-align: top;\n",
              "    }\n",
              "\n",
              "    .dataframe thead th {\n",
              "        text-align: right;\n",
              "    }\n",
              "</style>\n",
              "<table border=\"1\" class=\"dataframe\">\n",
              "  <thead>\n",
              "    <tr style=\"text-align: right;\">\n",
              "      <th></th>\n",
              "      <th>material_code</th>\n",
              "      <th>company_code</th>\n",
              "      <th>country</th>\n",
              "      <th>region</th>\n",
              "      <th>manager_code</th>\n",
              "      <th>month</th>\n",
              "      <th>vol_tm6</th>\n",
              "      <th>vol_tm5</th>\n",
              "      <th>vol_tm4</th>\n",
              "      <th>vol_tm3</th>\n",
              "      <th>vol_tm2</th>\n",
              "      <th>vol_tm1</th>\n",
              "      <th>last_year_avg</th>\n",
              "      <th>last_year_min</th>\n",
              "      <th>last_year_max</th>\n",
              "    </tr>\n",
              "  </thead>\n",
              "  <tbody>\n",
              "    <tr>\n",
              "      <th>0</th>\n",
              "      <td>124</td>\n",
              "      <td>7278</td>\n",
              "      <td>Россия</td>\n",
              "      <td>Респ. Татарстан</td>\n",
              "      <td>17460</td>\n",
              "      <td>7</td>\n",
              "      <td>0.0</td>\n",
              "      <td>0.0</td>\n",
              "      <td>0.0</td>\n",
              "      <td>0.0</td>\n",
              "      <td>0.0</td>\n",
              "      <td>0.0</td>\n",
              "      <td>0.000000</td>\n",
              "      <td>0.0</td>\n",
              "      <td>0.0</td>\n",
              "    </tr>\n",
              "    <tr>\n",
              "      <th>1</th>\n",
              "      <td>133</td>\n",
              "      <td>0</td>\n",
              "      <td>Белоруссия</td>\n",
              "      <td>Минская обл.</td>\n",
              "      <td>10942</td>\n",
              "      <td>7</td>\n",
              "      <td>17.0</td>\n",
              "      <td>72.0</td>\n",
              "      <td>250.0</td>\n",
              "      <td>394.0</td>\n",
              "      <td>288.0</td>\n",
              "      <td>210.0</td>\n",
              "      <td>179.833333</td>\n",
              "      <td>17.0</td>\n",
              "      <td>394.0</td>\n",
              "    </tr>\n",
              "    <tr>\n",
              "      <th>2</th>\n",
              "      <td>133</td>\n",
              "      <td>0</td>\n",
              "      <td>Белоруссия</td>\n",
              "      <td>Могилевская обл.</td>\n",
              "      <td>10942</td>\n",
              "      <td>7</td>\n",
              "      <td>0.0</td>\n",
              "      <td>0.0</td>\n",
              "      <td>0.0</td>\n",
              "      <td>166.0</td>\n",
              "      <td>62.0</td>\n",
              "      <td>0.0</td>\n",
              "      <td>19.000000</td>\n",
              "      <td>0.0</td>\n",
              "      <td>166.0</td>\n",
              "    </tr>\n",
              "    <tr>\n",
              "      <th>3</th>\n",
              "      <td>133</td>\n",
              "      <td>0</td>\n",
              "      <td>Белоруссия</td>\n",
              "      <td>г. Минск</td>\n",
              "      <td>10942</td>\n",
              "      <td>7</td>\n",
              "      <td>0.0</td>\n",
              "      <td>0.0</td>\n",
              "      <td>0.0</td>\n",
              "      <td>21.0</td>\n",
              "      <td>0.0</td>\n",
              "      <td>0.0</td>\n",
              "      <td>22.416667</td>\n",
              "      <td>0.0</td>\n",
              "      <td>83.0</td>\n",
              "    </tr>\n",
              "    <tr>\n",
              "      <th>4</th>\n",
              "      <td>133</td>\n",
              "      <td>0</td>\n",
              "      <td>Казахстан</td>\n",
              "      <td>г. Нур-Султан</td>\n",
              "      <td>13301</td>\n",
              "      <td>7</td>\n",
              "      <td>0.0</td>\n",
              "      <td>50.0</td>\n",
              "      <td>40.0</td>\n",
              "      <td>0.0</td>\n",
              "      <td>0.0</td>\n",
              "      <td>50.0</td>\n",
              "      <td>30.000000</td>\n",
              "      <td>0.0</td>\n",
              "      <td>50.0</td>\n",
              "    </tr>\n",
              "    <tr>\n",
              "      <th>...</th>\n",
              "      <td>...</td>\n",
              "      <td>...</td>\n",
              "      <td>...</td>\n",
              "      <td>...</td>\n",
              "      <td>...</td>\n",
              "      <td>...</td>\n",
              "      <td>...</td>\n",
              "      <td>...</td>\n",
              "      <td>...</td>\n",
              "      <td>...</td>\n",
              "      <td>...</td>\n",
              "      <td>...</td>\n",
              "      <td>...</td>\n",
              "      <td>...</td>\n",
              "      <td>...</td>\n",
              "    </tr>\n",
              "    <tr>\n",
              "      <th>936</th>\n",
              "      <td>986</td>\n",
              "      <td>9943</td>\n",
              "      <td>Россия</td>\n",
              "      <td>Смоленская обл.</td>\n",
              "      <td>17460</td>\n",
              "      <td>7</td>\n",
              "      <td>0.0</td>\n",
              "      <td>21.0</td>\n",
              "      <td>63.0</td>\n",
              "      <td>125.0</td>\n",
              "      <td>84.0</td>\n",
              "      <td>84.0</td>\n",
              "      <td>31.416667</td>\n",
              "      <td>0.0</td>\n",
              "      <td>125.0</td>\n",
              "    </tr>\n",
              "    <tr>\n",
              "      <th>937</th>\n",
              "      <td>998</td>\n",
              "      <td>0</td>\n",
              "      <td>Россия</td>\n",
              "      <td>Ленинградская обл.</td>\n",
              "      <td>18079</td>\n",
              "      <td>7</td>\n",
              "      <td>5.0</td>\n",
              "      <td>5.0</td>\n",
              "      <td>5.0</td>\n",
              "      <td>0.0</td>\n",
              "      <td>3.0</td>\n",
              "      <td>3.0</td>\n",
              "      <td>4.750000</td>\n",
              "      <td>0.0</td>\n",
              "      <td>10.0</td>\n",
              "    </tr>\n",
              "    <tr>\n",
              "      <th>938</th>\n",
              "      <td>998</td>\n",
              "      <td>3380</td>\n",
              "      <td>Россия</td>\n",
              "      <td>Ленинградская обл.</td>\n",
              "      <td>14956</td>\n",
              "      <td>7</td>\n",
              "      <td>73.0</td>\n",
              "      <td>74.0</td>\n",
              "      <td>122.0</td>\n",
              "      <td>100.0</td>\n",
              "      <td>15.0</td>\n",
              "      <td>30.0</td>\n",
              "      <td>85.583333</td>\n",
              "      <td>15.0</td>\n",
              "      <td>129.0</td>\n",
              "    </tr>\n",
              "    <tr>\n",
              "      <th>939</th>\n",
              "      <td>998</td>\n",
              "      <td>5410</td>\n",
              "      <td>Россия</td>\n",
              "      <td>г. Санкт-Петербург</td>\n",
              "      <td>14956</td>\n",
              "      <td>7</td>\n",
              "      <td>100.0</td>\n",
              "      <td>180.0</td>\n",
              "      <td>180.0</td>\n",
              "      <td>100.0</td>\n",
              "      <td>140.0</td>\n",
              "      <td>40.0</td>\n",
              "      <td>118.333333</td>\n",
              "      <td>40.0</td>\n",
              "      <td>180.0</td>\n",
              "    </tr>\n",
              "    <tr>\n",
              "      <th>940</th>\n",
              "      <td>998</td>\n",
              "      <td>6346</td>\n",
              "      <td>Россия</td>\n",
              "      <td>Респ. Башкортостан</td>\n",
              "      <td>10737</td>\n",
              "      <td>7</td>\n",
              "      <td>40.0</td>\n",
              "      <td>0.0</td>\n",
              "      <td>20.0</td>\n",
              "      <td>40.0</td>\n",
              "      <td>20.0</td>\n",
              "      <td>21.0</td>\n",
              "      <td>25.083333</td>\n",
              "      <td>0.0</td>\n",
              "      <td>40.0</td>\n",
              "    </tr>\n",
              "  </tbody>\n",
              "</table>\n",
              "<p>941 rows × 15 columns</p>\n",
              "</div>"
            ],
            "text/plain": [
              "     material_code  company_code  ... last_year_min last_year_max\n",
              "0              124          7278  ...           0.0           0.0\n",
              "1              133             0  ...          17.0         394.0\n",
              "2              133             0  ...           0.0         166.0\n",
              "3              133             0  ...           0.0          83.0\n",
              "4              133             0  ...           0.0          50.0\n",
              "..             ...           ...  ...           ...           ...\n",
              "936            986          9943  ...           0.0         125.0\n",
              "937            998             0  ...           0.0          10.0\n",
              "938            998          3380  ...          15.0         129.0\n",
              "939            998          5410  ...          40.0         180.0\n",
              "940            998          6346  ...           0.0          40.0\n",
              "\n",
              "[941 rows x 15 columns]"
            ]
          },
          "metadata": {},
          "execution_count": 91
        }
      ]
    },
    {
      "cell_type": "code",
      "metadata": {
        "id": "mdb1kqcMZLJD"
      },
      "source": [
        "predict.predict(data[data.month<\"2020-07-01\"], pd.Timestamp(\"2020-07-01\"))"
      ],
      "execution_count": null,
      "outputs": []
    },
    {
      "cell_type": "code",
      "metadata": {
        "id": "IAtSvzvIJWH6"
      },
      "source": [
        "#для двух моделей\n",
        "\n"
      ],
      "execution_count": null,
      "outputs": []
    },
    {
      "cell_type": "code",
      "metadata": {
        "id": "YELVDpe2ZLJD",
        "outputId": "de3ff574-1603-48ea-e9d0-9026974b3840"
      },
      "source": [
        "!zip -r baseline_submission.zip baseline_model.cbm predict.py"
      ],
      "execution_count": null,
      "outputs": [
        {
          "name": "stdout",
          "output_type": "stream",
          "text": [
            "updating: baseline_model.cbm (deflated 72%)\r\n",
            "updating: predict.py (deflated 57%)\r\n"
          ]
        }
      ]
    },
    {
      "cell_type": "code",
      "metadata": {
        "id": "SYCdi155ZLJE"
      },
      "source": [
        "!ls -lh"
      ],
      "execution_count": null,
      "outputs": []
    },
    {
      "cell_type": "code",
      "metadata": {
        "id": "H-_wp5FhoBGz"
      },
      "source": [
        "sand=pd.read_excel('sand.xlsx')"
      ],
      "execution_count": null,
      "outputs": []
    },
    {
      "cell_type": "code",
      "metadata": {
        "colab": {
          "base_uri": "https://localhost:8080/",
          "height": 571
        },
        "id": "bVSxoXb5oKl-",
        "outputId": "56df8447-9669-4198-e432-e802acb6e34b"
      },
      "source": [
        "flag=sand['Сведения о сертификации']!=sand['Сведения о сертификации']\n",
        "sand[flag]\n"
      ],
      "execution_count": null,
      "outputs": [
        {
          "output_type": "execute_result",
          "data": {
            "text/html": [
              "<div>\n",
              "<style scoped>\n",
              "    .dataframe tbody tr th:only-of-type {\n",
              "        vertical-align: middle;\n",
              "    }\n",
              "\n",
              "    .dataframe tbody tr th {\n",
              "        vertical-align: top;\n",
              "    }\n",
              "\n",
              "    .dataframe thead th {\n",
              "        text-align: right;\n",
              "    }\n",
              "</style>\n",
              "<table border=\"1\" class=\"dataframe\">\n",
              "  <thead>\n",
              "    <tr style=\"text-align: right;\">\n",
              "      <th></th>\n",
              "      <th>№ п/п _ 465</th>\n",
              "      <th>Наименование оборудования</th>\n",
              "      <th>Требуемый параметр</th>\n",
              "      <th>Требуемое значение</th>\n",
              "      <th>Единица измерения</th>\n",
              "      <th>Соответствие КТРУ</th>\n",
              "      <th>Примечение</th>\n",
              "      <th>Наименование СПГЗ</th>\n",
              "      <th>Код КПГЗ</th>\n",
              "      <th>Сведения о сертификации</th>\n",
              "      <th>Обоснование позиции</th>\n",
              "      <th>Обоснование требований</th>\n",
              "      <th>Соответствие 44-ФЗ / 223-ФЗ (наличие не менее 3-х аналогов / эквивалентов)</th>\n",
              "      <th>№ Раздела _ 465</th>\n",
              "      <th>Наименование раздела _ 465</th>\n",
              "      <th>Подраздел _ 465</th>\n",
              "      <th>Наименование подраздела _ 465</th>\n",
              "      <th>Тип оборудования _ 465</th>\n",
              "      <th>Основное / Вариативное _ 465</th>\n",
              "      <th>Наличие в кабинете</th>\n",
              "    </tr>\n",
              "  </thead>\n",
              "  <tbody>\n",
              "    <tr>\n",
              "      <th>0</th>\n",
              "      <td>2.7.</td>\n",
              "      <td>Сетевой фильтр</td>\n",
              "      <td>Количество</td>\n",
              "      <td>NaN</td>\n",
              "      <td>шт.</td>\n",
              "      <td>NaN</td>\n",
              "      <td>NaN</td>\n",
              "      <td>NaN</td>\n",
              "      <td>NaN</td>\n",
              "      <td>NaN</td>\n",
              "      <td>NaN</td>\n",
              "      <td>NaN</td>\n",
              "      <td>NaN</td>\n",
              "      <td>2</td>\n",
              "      <td>Комплекс оснащения предметных кабинетов</td>\n",
              "      <td>18</td>\n",
              "      <td>Кабинет астрономии</td>\n",
              "      <td>Технические средства</td>\n",
              "      <td>Основное оборудование</td>\n",
              "      <td>NaN</td>\n",
              "    </tr>\n",
              "    <tr>\n",
              "      <th>1</th>\n",
              "      <td>NaN</td>\n",
              "      <td>NaN</td>\n",
              "      <td>NaN</td>\n",
              "      <td>NaN</td>\n",
              "      <td>NaN</td>\n",
              "      <td>NaN</td>\n",
              "      <td>NaN</td>\n",
              "      <td>NaN</td>\n",
              "      <td>NaN</td>\n",
              "      <td>NaN</td>\n",
              "      <td>NaN</td>\n",
              "      <td>NaN</td>\n",
              "      <td>NaN</td>\n",
              "      <td>NaN</td>\n",
              "      <td>NaN</td>\n",
              "      <td>NaN</td>\n",
              "      <td>NaN</td>\n",
              "      <td>NaN</td>\n",
              "      <td>NaN</td>\n",
              "      <td>NaN</td>\n",
              "    </tr>\n",
              "    <tr>\n",
              "      <th>2</th>\n",
              "      <td>NaN</td>\n",
              "      <td>NaN</td>\n",
              "      <td>NaN</td>\n",
              "      <td>NaN</td>\n",
              "      <td>NaN</td>\n",
              "      <td>NaN</td>\n",
              "      <td>NaN</td>\n",
              "      <td>NaN</td>\n",
              "      <td>NaN</td>\n",
              "      <td>NaN</td>\n",
              "      <td>NaN</td>\n",
              "      <td>NaN</td>\n",
              "      <td>NaN</td>\n",
              "      <td>NaN</td>\n",
              "      <td>NaN</td>\n",
              "      <td>NaN</td>\n",
              "      <td>NaN</td>\n",
              "      <td>NaN</td>\n",
              "      <td>NaN</td>\n",
              "      <td>NaN</td>\n",
              "    </tr>\n",
              "    <tr>\n",
              "      <th>3</th>\n",
              "      <td>NaN</td>\n",
              "      <td>NaN</td>\n",
              "      <td>NaN</td>\n",
              "      <td>NaN</td>\n",
              "      <td>NaN</td>\n",
              "      <td>NaN</td>\n",
              "      <td>NaN</td>\n",
              "      <td>NaN</td>\n",
              "      <td>NaN</td>\n",
              "      <td>NaN</td>\n",
              "      <td>NaN</td>\n",
              "      <td>NaN</td>\n",
              "      <td>NaN</td>\n",
              "      <td>NaN</td>\n",
              "      <td>NaN</td>\n",
              "      <td>NaN</td>\n",
              "      <td>NaN</td>\n",
              "      <td>NaN</td>\n",
              "      <td>NaN</td>\n",
              "      <td>NaN</td>\n",
              "    </tr>\n",
              "    <tr>\n",
              "      <th>4</th>\n",
              "      <td>NaN</td>\n",
              "      <td>NaN</td>\n",
              "      <td>NaN</td>\n",
              "      <td>NaN</td>\n",
              "      <td>NaN</td>\n",
              "      <td>NaN</td>\n",
              "      <td>NaN</td>\n",
              "      <td>NaN</td>\n",
              "      <td>NaN</td>\n",
              "      <td>NaN</td>\n",
              "      <td>NaN</td>\n",
              "      <td>NaN</td>\n",
              "      <td>NaN</td>\n",
              "      <td>NaN</td>\n",
              "      <td>NaN</td>\n",
              "      <td>NaN</td>\n",
              "      <td>NaN</td>\n",
              "      <td>NaN</td>\n",
              "      <td>NaN</td>\n",
              "      <td>NaN</td>\n",
              "    </tr>\n",
              "    <tr>\n",
              "      <th>...</th>\n",
              "      <td>...</td>\n",
              "      <td>...</td>\n",
              "      <td>...</td>\n",
              "      <td>...</td>\n",
              "      <td>...</td>\n",
              "      <td>...</td>\n",
              "      <td>...</td>\n",
              "      <td>...</td>\n",
              "      <td>...</td>\n",
              "      <td>...</td>\n",
              "      <td>...</td>\n",
              "      <td>...</td>\n",
              "      <td>...</td>\n",
              "      <td>...</td>\n",
              "      <td>...</td>\n",
              "      <td>...</td>\n",
              "      <td>...</td>\n",
              "      <td>...</td>\n",
              "      <td>...</td>\n",
              "      <td>...</td>\n",
              "    </tr>\n",
              "    <tr>\n",
              "      <th>275</th>\n",
              "      <td>NaN</td>\n",
              "      <td>NaN</td>\n",
              "      <td>NaN</td>\n",
              "      <td>NaN</td>\n",
              "      <td>NaN</td>\n",
              "      <td>NaN</td>\n",
              "      <td>NaN</td>\n",
              "      <td>NaN</td>\n",
              "      <td>NaN</td>\n",
              "      <td>NaN</td>\n",
              "      <td>NaN</td>\n",
              "      <td>NaN</td>\n",
              "      <td>NaN</td>\n",
              "      <td>NaN</td>\n",
              "      <td>NaN</td>\n",
              "      <td>NaN</td>\n",
              "      <td>NaN</td>\n",
              "      <td>NaN</td>\n",
              "      <td>NaN</td>\n",
              "      <td>NaN</td>\n",
              "    </tr>\n",
              "    <tr>\n",
              "      <th>276</th>\n",
              "      <td>NaN</td>\n",
              "      <td>NaN</td>\n",
              "      <td>NaN</td>\n",
              "      <td>NaN</td>\n",
              "      <td>NaN</td>\n",
              "      <td>NaN</td>\n",
              "      <td>NaN</td>\n",
              "      <td>NaN</td>\n",
              "      <td>NaN</td>\n",
              "      <td>NaN</td>\n",
              "      <td>NaN</td>\n",
              "      <td>NaN</td>\n",
              "      <td>NaN</td>\n",
              "      <td>NaN</td>\n",
              "      <td>NaN</td>\n",
              "      <td>NaN</td>\n",
              "      <td>NaN</td>\n",
              "      <td>NaN</td>\n",
              "      <td>NaN</td>\n",
              "      <td>NaN</td>\n",
              "    </tr>\n",
              "    <tr>\n",
              "      <th>277</th>\n",
              "      <td>NaN</td>\n",
              "      <td>NaN</td>\n",
              "      <td>NaN</td>\n",
              "      <td>NaN</td>\n",
              "      <td>NaN</td>\n",
              "      <td>NaN</td>\n",
              "      <td>NaN</td>\n",
              "      <td>NaN</td>\n",
              "      <td>NaN</td>\n",
              "      <td>NaN</td>\n",
              "      <td>NaN</td>\n",
              "      <td>NaN</td>\n",
              "      <td>NaN</td>\n",
              "      <td>NaN</td>\n",
              "      <td>NaN</td>\n",
              "      <td>NaN</td>\n",
              "      <td>NaN</td>\n",
              "      <td>NaN</td>\n",
              "      <td>NaN</td>\n",
              "      <td>NaN</td>\n",
              "    </tr>\n",
              "    <tr>\n",
              "      <th>278</th>\n",
              "      <td>NaN</td>\n",
              "      <td>NaN</td>\n",
              "      <td>NaN</td>\n",
              "      <td>NaN</td>\n",
              "      <td>NaN</td>\n",
              "      <td>NaN</td>\n",
              "      <td>NaN</td>\n",
              "      <td>NaN</td>\n",
              "      <td>NaN</td>\n",
              "      <td>NaN</td>\n",
              "      <td>NaN</td>\n",
              "      <td>NaN</td>\n",
              "      <td>NaN</td>\n",
              "      <td>NaN</td>\n",
              "      <td>NaN</td>\n",
              "      <td>NaN</td>\n",
              "      <td>NaN</td>\n",
              "      <td>NaN</td>\n",
              "      <td>NaN</td>\n",
              "      <td>NaN</td>\n",
              "    </tr>\n",
              "    <tr>\n",
              "      <th>279</th>\n",
              "      <td>NaN</td>\n",
              "      <td>NaN</td>\n",
              "      <td>NaN</td>\n",
              "      <td>2.11.</td>\n",
              "      <td>NaN</td>\n",
              "      <td>NaN</td>\n",
              "      <td>NaN</td>\n",
              "      <td>NaN</td>\n",
              "      <td>NaN</td>\n",
              "      <td>NaN</td>\n",
              "      <td>NaN</td>\n",
              "      <td>NaN</td>\n",
              "      <td>NaN</td>\n",
              "      <td>NaN</td>\n",
              "      <td>NaN</td>\n",
              "      <td>NaN</td>\n",
              "      <td>NaN</td>\n",
              "      <td>NaN</td>\n",
              "      <td>NaN</td>\n",
              "      <td>NaN</td>\n",
              "    </tr>\n",
              "  </tbody>\n",
              "</table>\n",
              "<p>276 rows × 20 columns</p>\n",
              "</div>"
            ],
            "text/plain": [
              "    № п/п _ 465  ... Наличие в кабинете\n",
              "0          2.7.  ...                NaN\n",
              "1           NaN  ...                NaN\n",
              "2           NaN  ...                NaN\n",
              "3           NaN  ...                NaN\n",
              "4           NaN  ...                NaN\n",
              "..          ...  ...                ...\n",
              "275         NaN  ...                NaN\n",
              "276         NaN  ...                NaN\n",
              "277         NaN  ...                NaN\n",
              "278         NaN  ...                NaN\n",
              "279         NaN  ...                NaN\n",
              "\n",
              "[276 rows x 20 columns]"
            ]
          },
          "metadata": {},
          "execution_count": 16
        }
      ]
    },
    {
      "cell_type": "code",
      "metadata": {
        "colab": {
          "base_uri": "https://localhost:8080/"
        },
        "id": "emZ60iJxZLJE",
        "outputId": "ef233b4d-beb1-43da-b700-fd01de35d4a3"
      },
      "source": [
        "sand.isnull().sum()"
      ],
      "execution_count": null,
      "outputs": [
        {
          "output_type": "execute_result",
          "data": {
            "text/plain": [
              "№ п/п _ 465                                                                   271\n",
              "Наименование оборудования                                                     271\n",
              "Требуемый параметр                                                            118\n",
              "Требуемое значение                                                            126\n",
              "Единица измерения                                                             173\n",
              "Соответствие КТРУ                                                             125\n",
              "Примечение                                                                    187\n",
              "Наименование СПГЗ                                                             274\n",
              "Код КПГЗ                                                                      274\n",
              "Сведения о сертификации                                                       276\n",
              "Обоснование позиции                                                           274\n",
              "Обоснование требований                                                        276\n",
              "Соответствие 44-ФЗ / 223-ФЗ (наличие не менее 3-х аналогов / эквивалентов)    275\n",
              "№ Раздела _ 465                                                               271\n",
              "Наименование раздела _ 465                                                    271\n",
              "Подраздел _ 465                                                               271\n",
              "Наименование подраздела _ 465                                                 271\n",
              "Тип оборудования _ 465                                                        271\n",
              "Основное / Вариативное _ 465                                                  271\n",
              "Наличие в кабинете                                                            280\n",
              "dtype: int64"
            ]
          },
          "metadata": {},
          "execution_count": 17
        }
      ]
    }
  ]
}